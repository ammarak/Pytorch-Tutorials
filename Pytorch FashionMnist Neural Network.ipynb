{
 "cells": [
  {
   "cell_type": "code",
   "execution_count": 1,
   "id": "389b19d1",
   "metadata": {},
   "outputs": [
    {
     "name": "stderr",
     "output_type": "stream",
     "text": [
      "D:\\Computer_Vision\\envs\\detectron2\\lib\\site-packages\\tqdm\\auto.py:22: TqdmWarning: IProgress not found. Please update jupyter and ipywidgets. See https://ipywidgets.readthedocs.io/en/stable/user_install.html\n",
      "  from .autonotebook import tqdm as notebook_tqdm\n"
     ]
    }
   ],
   "source": [
    "import torch\n",
    "from torch import nn\n",
    "import torchvision ## For all your CV task\n",
    "import matplotlib.pyplot as plt"
   ]
  },
  {
   "cell_type": "code",
   "execution_count": 2,
   "id": "c75e32c0",
   "metadata": {},
   "outputs": [],
   "source": [
    "DATA_ROOT_DIR = \"FashionMnist\""
   ]
  },
  {
   "cell_type": "code",
   "execution_count": 5,
   "id": "971dfc6f",
   "metadata": {},
   "outputs": [],
   "source": [
    "train_data = torchvision.datasets.FashionMNIST(\n",
    "    root = DATA_ROOT_DIR,\n",
    "    train = True,\n",
    "    download = True,\n",
    "    transform = torchvision.transforms.ToTensor(),\n",
    ")\n",
    "\n",
    "test_data = torchvision.datasets.FashionMNIST(\n",
    "    root = DATA_ROOT_DIR,\n",
    "    train = False,\n",
    "    download = True,\n",
    "    transform = torchvision.transforms.ToTensor(),\n",
    ")"
   ]
  },
  {
   "cell_type": "code",
   "execution_count": 6,
   "id": "8f5eed1f",
   "metadata": {},
   "outputs": [],
   "source": [
    "BATCH_SIZE = 64\n",
    "\n",
    "train_data_loader = torch.utils.data.DataLoader(train_data, batch_size = BATCH_SIZE)  # Like keras flow from directory\n",
    "test_data_loader = torch.utils.data.DataLoader(test_data, batch_size=BATCH_SIZE)"
   ]
  },
  {
   "cell_type": "code",
   "execution_count": 7,
   "id": "23e78cd9",
   "metadata": {},
   "outputs": [
    {
     "data": {
      "text/plain": [
       "torch.utils.data.dataloader.DataLoader"
      ]
     },
     "execution_count": 7,
     "metadata": {},
     "output_type": "execute_result"
    }
   ],
   "source": [
    "type(train_data_loader)"
   ]
  },
  {
   "cell_type": "code",
   "execution_count": 8,
   "id": "89371e11",
   "metadata": {},
   "outputs": [
    {
     "name": "stdout",
     "output_type": "stream",
     "text": [
      "torch.Size([64, 1, 28, 28])\n",
      "torch.Size([64]) torch.int64 tensor([0, 1, 2, 3, 4, 5, 6, 7, 8, 9])\n"
     ]
    }
   ],
   "source": [
    "for X, y in test_data_loader:\n",
    "    print(X.shape)\n",
    "    print(y.shape, y.dtype, torch.unique(y))\n",
    "    break"
   ]
  },
  {
   "cell_type": "code",
   "execution_count": 9,
   "id": "a2f4e94a",
   "metadata": {},
   "outputs": [
    {
     "data": {
      "text/plain": [
       "'cuda'"
      ]
     },
     "execution_count": 9,
     "metadata": {},
     "output_type": "execute_result"
    }
   ],
   "source": [
    "device = \"cuda\" if torch.cuda.is_available() else \"cpu\"\n",
    "device"
   ]
  },
  {
   "cell_type": "code",
   "execution_count": 30,
   "id": "8bed2811",
   "metadata": {},
   "outputs": [],
   "source": [
    "class NeuralNetwork(nn.Module):\n",
    "    def __init__(self):\n",
    "        super(NeuralNetwork, self).__init__()\n",
    "        \n",
    "        self.flatten = nn.Flatten()\n",
    "        \n",
    "        self.linear_relu_stack = nn.Sequential(\n",
    "            nn.Linear(28*28, 512),  # Just like dense layer\n",
    "            nn.ReLU(), # Activation function\n",
    "            nn.Linear(512, 512),\n",
    "            nn.ReLU(),\n",
    "            nn.Linear(512, 10),\n",
    "            nn.ReLU(),\n",
    "        )\n",
    "        \n",
    "    \n",
    "    def forward(self, X):  # Forward Propagation\n",
    "        X = self.flatten(X)\n",
    "        logits = self.linear_relu_stack(X)\n",
    "        return logits"
   ]
  },
  {
   "cell_type": "code",
   "execution_count": 31,
   "id": "37a7c13f",
   "metadata": {},
   "outputs": [
    {
     "name": "stdout",
     "output_type": "stream",
     "text": [
      "NeuralNetwork(\n",
      "  (flatten): Flatten(start_dim=1, end_dim=-1)\n",
      "  (linear_relu_stack): Sequential(\n",
      "    (0): Linear(in_features=784, out_features=512, bias=True)\n",
      "    (1): ReLU()\n",
      "    (2): Linear(in_features=512, out_features=512, bias=True)\n",
      "    (3): ReLU()\n",
      "    (4): Linear(in_features=512, out_features=10, bias=True)\n",
      "    (5): ReLU()\n",
      "  )\n",
      ")\n"
     ]
    }
   ],
   "source": [
    "model = NeuralNetwork().to(device)\n",
    "\n",
    "print(model)"
   ]
  },
  {
   "cell_type": "code",
   "execution_count": 32,
   "id": "9eca9253",
   "metadata": {},
   "outputs": [],
   "source": [
    "loss_fn = nn.CrossEntropyLoss()\n",
    "optimizer = torch.optim.SGD(model.parameters(), lr=1e-3)  # model.parameter is weights and biases"
   ]
  },
  {
   "cell_type": "code",
   "execution_count": 33,
   "id": "e3a3c8fc",
   "metadata": {},
   "outputs": [],
   "source": [
    "def train(dataloader, model, loss_fn, optimizer):\n",
    "    size = len(dataloader.dataset)\n",
    "    \n",
    "    for batch, (X, y) in enumerate(dataloader):\n",
    "        X, y = X.to(device), y.to(device)  # Convert to GPU\n",
    "        \n",
    "        # Calculate Error\n",
    "        pred = model(X)     # Predict\n",
    "        loss = loss_fn(pred, y)   # Loss function\n",
    "        \n",
    "        # Backpropagation\n",
    "        optimizer.zero_grad()  # No cache gradients\n",
    "        loss.backward()  # Calculate Gradient\n",
    "        optimizer.step() # Update the weights \n",
    "        \n",
    "        if batch % 100 == 0:  # Every 6400th step\n",
    "            loss, current = loss.item(), batch * len(X)  # Current Data Point\n",
    "            print(f\"Training Loss: {loss} [{current}/{size}]\")"
   ]
  },
  {
   "cell_type": "code",
   "execution_count": 34,
   "id": "4f9cc943",
   "metadata": {},
   "outputs": [],
   "source": [
    "def test(dataloader, model):\n",
    "    size = len(dataloader.dataset)\n",
    "    model.eval()\n",
    "    \n",
    "    test_loss, correct = 0, 0 \n",
    "    \n",
    "    with torch.no_grad():\n",
    "        for X, y in dataloader:\n",
    "            X, y = X.to(device), y.to(device)\n",
    "            pred = model(X)\n",
    "            test_loss = test_loss + loss_fn(pred, y).item()\n",
    "            correct = correct + (pred.argmax(1)==y).type(torch.float).sum().item()\n",
    "    \n",
    "    test_loss = test_loss/size\n",
    "    correct = correct/size\n",
    "    \n",
    "    print(f\"Test Loss: {100*correct}, Average Loss: {test_loss}\")"
   ]
  },
  {
   "cell_type": "code",
   "execution_count": 35,
   "id": "07730fa7",
   "metadata": {},
   "outputs": [
    {
     "name": "stdout",
     "output_type": "stream",
     "text": [
      "EPOCH: 1\n",
      "------------\n",
      "Training Loss: 2.3023295402526855 [0/60000]\n",
      "Training Loss: 2.297351360321045 [6400/60000]\n",
      "Training Loss: 2.288860559463501 [12800/60000]\n",
      "Training Loss: 2.2813501358032227 [19200/60000]\n",
      "Training Loss: 2.2841525077819824 [25600/60000]\n",
      "Training Loss: 2.257342576980591 [32000/60000]\n",
      "Training Loss: 2.272545576095581 [38400/60000]\n",
      "Training Loss: 2.25211238861084 [44800/60000]\n",
      "Training Loss: 2.227989912033081 [51200/60000]\n",
      "Training Loss: 2.2291555404663086 [57600/60000]\n",
      "Test Loss: 38.43, Average Loss: 0.034958814549446104\n",
      "EPOCH: 2\n",
      "------------\n",
      "Training Loss: 2.2252542972564697 [0/60000]\n",
      "Training Loss: 2.2234432697296143 [6400/60000]\n",
      "Training Loss: 2.1947224140167236 [12800/60000]\n",
      "Training Loss: 2.2056076526641846 [19200/60000]\n",
      "Training Loss: 2.1895296573638916 [25600/60000]\n",
      "Training Loss: 2.1248345375061035 [32000/60000]\n",
      "Training Loss: 2.1706247329711914 [38400/60000]\n",
      "Training Loss: 2.1127569675445557 [44800/60000]\n",
      "Training Loss: 2.0923104286193848 [51200/60000]\n",
      "Training Loss: 2.086298942565918 [57600/60000]\n",
      "Test Loss: 52.480000000000004, Average Loss: 0.032690363883972166\n",
      "EPOCH: 3\n",
      "------------\n",
      "Training Loss: 2.080872058868408 [0/60000]\n",
      "Training Loss: 2.070110321044922 [6400/60000]\n",
      "Training Loss: 2.0132429599761963 [12800/60000]\n",
      "Training Loss: 2.0696535110473633 [19200/60000]\n",
      "Training Loss: 1.9913110733032227 [25600/60000]\n",
      "Training Loss: 1.8971832990646362 [32000/60000]\n",
      "Training Loss: 1.9897514581680298 [38400/60000]\n",
      "Training Loss: 1.8812271356582642 [44800/60000]\n",
      "Training Loss: 1.8858354091644287 [51200/60000]\n",
      "Training Loss: 1.8732631206512451 [57600/60000]\n",
      "Test Loss: 54.949999999999996, Average Loss: 0.029329741728305818\n",
      "Done\n"
     ]
    }
   ],
   "source": [
    "EPOCHS = 3\n",
    "\n",
    "for epoch in range(EPOCHS):\n",
    "    print(f\"EPOCH: {epoch + 1}\\n------------\")\n",
    "    \n",
    "    train(train_data_loader, model, loss_fn, optimizer)\n",
    "    test(test_data_loader, model)\n",
    "    \n",
    "print(\"Done\")"
   ]
  },
  {
   "cell_type": "code",
   "execution_count": 36,
   "id": "301b06f9",
   "metadata": {},
   "outputs": [],
   "source": [
    "torch.save(model, \"model.pth\")"
   ]
  },
  {
   "cell_type": "code",
   "execution_count": 38,
   "id": "08369020",
   "metadata": {},
   "outputs": [
    {
     "name": "stderr",
     "output_type": "stream",
     "text": [
      "D:\\Computer_Vision\\envs\\detectron2\\lib\\site-packages\\ipykernel_launcher.py:16: UserWarning: To copy construct from a tensor, it is recommended to use sourceTensor.clone().detach() or sourceTensor.clone().detach().requires_grad_(True), rather than torch.tensor(sourceTensor).\n",
      "  \n"
     ]
    },
    {
     "name": "stdout",
     "output_type": "stream",
     "text": [
      "Ankle boot Ankle boot\n"
     ]
    }
   ],
   "source": [
    "classes = [\n",
    "    \"T-shirt/top\",\n",
    "    \"Trouser\",\n",
    "    \"Pullover\",\n",
    "    \"Dress\",\n",
    "    \"Coat\",\n",
    "    \"Sandal\",\n",
    "    \"Shirt\",\n",
    "    \"Sneaker\",\n",
    "    \"Bag\",\n",
    "    \"Ankle boot\",\n",
    "]\n",
    "\n",
    "model.eval()\n",
    "\n",
    "X, y = torch.tensor(test_data[0][0]).to(device), torch.tensor(test_data[0][1]).to(device)\n",
    "\n",
    "with torch.no_grad():\n",
    "    pred = model(X)\n",
    "    prediction, actual = classes[pred[0].argmax(0)], classes[y]\n",
    "    print(prediction, actual)"
   ]
  },
  {
   "cell_type": "code",
   "execution_count": null,
   "id": "10ddc2f5",
   "metadata": {},
   "outputs": [],
   "source": []
  }
 ],
 "metadata": {
  "kernelspec": {
   "display_name": "Python 3",
   "language": "python",
   "name": "python3"
  },
  "language_info": {
   "codemirror_mode": {
    "name": "ipython",
    "version": 3
   },
   "file_extension": ".py",
   "mimetype": "text/x-python",
   "name": "python",
   "nbconvert_exporter": "python",
   "pygments_lexer": "ipython3",
   "version": "3.7.15"
  }
 },
 "nbformat": 4,
 "nbformat_minor": 5
}
