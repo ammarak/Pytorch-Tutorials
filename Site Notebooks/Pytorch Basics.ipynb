{
 "cells": [
  {
   "cell_type": "markdown",
   "metadata": {
    "id": "ms_0hSSaqUqd"
   },
   "source": [
    "# Pytorch\n",
    "\n",
    "Core use case -\n",
    "\n",
    "- replace numpy to use GPU for fast computing\n",
    "- automatic differention which can help in calculating gradients => you can implimenting ANNs"
   ]
  },
  {
   "cell_type": "code",
   "execution_count": null,
   "metadata": {
    "id": "I8tP7SPqle2-"
   },
   "outputs": [],
   "source": [
    "import torch\n",
    "\n",
    "import numpy as np"
   ]
  },
  {
   "cell_type": "markdown",
   "metadata": {
    "id": "RA8elXZ9ryWG"
   },
   "source": [
    "# Tensors\n",
    "\n",
    "A kind of data structure => multidimensional arrays or matrices\n",
    "With tensors you enocode all your parameters.\n"
   ]
  },
  {
   "cell_type": "code",
   "execution_count": null,
   "metadata": {
    "colab": {
     "base_uri": "https://localhost:8080/"
    },
    "executionInfo": {
     "elapsed": 89,
     "status": "ok",
     "timestamp": 1630137382799,
     "user": {
      "displayName": "Sunny iNeuron",
      "photoUrl": "https://lh3.googleusercontent.com/a-/AOh14GhmXLjrm_XYgByZVmHbyiA9-be_Jt1_fbtrh6e4=s64",
      "userId": "02044749445435352574"
     },
     "user_tz": -330
    },
    "id": "XlHr-pBXrq7n",
    "outputId": "1dd50b59-cadc-4873-9abe-d66e3e3b017c"
   },
   "outputs": [
    {
     "name": "stdout",
     "output_type": "stream",
     "text": [
      "tensor([[ 9, 10],\n",
      "        [ 4,  5],\n",
      "        [12, 13]])\n",
      "<class 'torch.Tensor'>\n"
     ]
    }
   ],
   "source": [
    "data = [[9, 10],\n",
    "        [4, 5], \n",
    "        [12, 13]]\n",
    "\n",
    "\n",
    "tensor_data = torch.tensor(data)\n",
    "\n",
    "\n",
    "print(tensor_data)\n",
    "\n",
    "print(type(tensor_data))"
   ]
  },
  {
   "cell_type": "code",
   "execution_count": null,
   "metadata": {
    "colab": {
     "base_uri": "https://localhost:8080/"
    },
    "executionInfo": {
     "elapsed": 79,
     "status": "ok",
     "timestamp": 1630137382802,
     "user": {
      "displayName": "Sunny iNeuron",
      "photoUrl": "https://lh3.googleusercontent.com/a-/AOh14GhmXLjrm_XYgByZVmHbyiA9-be_Jt1_fbtrh6e4=s64",
      "userId": "02044749445435352574"
     },
     "user_tz": -330
    },
    "id": "DSKyjbNUsx3Z",
    "outputId": "c79727a7-1f72-43ab-f8f5-b5d53bc275b9"
   },
   "outputs": [
    {
     "data": {
      "text/plain": [
       "tensor(9)"
      ]
     },
     "execution_count": 3,
     "metadata": {},
     "output_type": "execute_result"
    }
   ],
   "source": [
    "tensor_data[0, 0]"
   ]
  },
  {
   "cell_type": "code",
   "execution_count": null,
   "metadata": {
    "colab": {
     "base_uri": "https://localhost:8080/"
    },
    "executionInfo": {
     "elapsed": 75,
     "status": "ok",
     "timestamp": 1630137382808,
     "user": {
      "displayName": "Sunny iNeuron",
      "photoUrl": "https://lh3.googleusercontent.com/a-/AOh14GhmXLjrm_XYgByZVmHbyiA9-be_Jt1_fbtrh6e4=s64",
      "userId": "02044749445435352574"
     },
     "user_tz": -330
    },
    "id": "m_EmYMI-s5lc",
    "outputId": "db1d4996-88ea-4e01-bdb9-f34f77e63381"
   },
   "outputs": [
    {
     "name": "stdout",
     "output_type": "stream",
     "text": [
      "tensor([[ 9, 10],\n",
      "        [ 4,  5],\n",
      "        [12, 13]])\n",
      "<class 'torch.Tensor'>\n"
     ]
    }
   ],
   "source": [
    "np_data = np.array([[9, 10],\n",
    "        [4, 5], \n",
    "        [12, 13]])\n",
    "\n",
    "\n",
    "tensor_data_np = torch.tensor(np_data)\n",
    "\n",
    "\n",
    "print(tensor_data_np)\n",
    "\n",
    "print(type(tensor_data_np))"
   ]
  },
  {
   "cell_type": "code",
   "execution_count": null,
   "metadata": {
    "colab": {
     "base_uri": "https://localhost:8080/"
    },
    "executionInfo": {
     "elapsed": 71,
     "status": "ok",
     "timestamp": 1630137382811,
     "user": {
      "displayName": "Sunny iNeuron",
      "photoUrl": "https://lh3.googleusercontent.com/a-/AOh14GhmXLjrm_XYgByZVmHbyiA9-be_Jt1_fbtrh6e4=s64",
      "userId": "02044749445435352574"
     },
     "user_tz": -330
    },
    "id": "jIVDOPtwtLx2",
    "outputId": "deabd447-0133-49c3-c5a2-0860d8771855"
   },
   "outputs": [
    {
     "data": {
      "text/plain": [
       "tensor([[1, 1],\n",
       "        [1, 1],\n",
       "        [1, 1]])"
      ]
     },
     "execution_count": 5,
     "metadata": {},
     "output_type": "execute_result"
    }
   ],
   "source": [
    "ones_like_data = torch.ones_like(tensor_data_np)\n",
    "ones_like_data"
   ]
  },
  {
   "cell_type": "code",
   "execution_count": null,
   "metadata": {
    "colab": {
     "base_uri": "https://localhost:8080/",
     "height": 187
    },
    "executionInfo": {
     "elapsed": 107,
     "status": "error",
     "timestamp": 1630137382854,
     "user": {
      "displayName": "Sunny iNeuron",
      "photoUrl": "https://lh3.googleusercontent.com/a-/AOh14GhmXLjrm_XYgByZVmHbyiA9-be_Jt1_fbtrh6e4=s64",
      "userId": "02044749445435352574"
     },
     "user_tz": -330
    },
    "id": "kuF6Q4RatfoV",
    "outputId": "2bd00a7d-2753-4ab5-f289-48a8550e27ea"
   },
   "outputs": [
    {
     "ename": "TypeError",
     "evalue": "ignored",
     "output_type": "error",
     "traceback": [
      "\u001b[0;31m---------------------------------------------------------------------------\u001b[0m",
      "\u001b[0;31mTypeError\u001b[0m                                 Traceback (most recent call last)",
      "\u001b[0;32m<ipython-input-6-96e9a7d637cc>\u001b[0m in \u001b[0;36m<module>\u001b[0;34m()\u001b[0m\n\u001b[0;32m----> 1\u001b[0;31m \u001b[0mones_like_data\u001b[0m \u001b[0;34m=\u001b[0m \u001b[0mtorch\u001b[0m\u001b[0;34m.\u001b[0m\u001b[0mones_like\u001b[0m\u001b[0;34m(\u001b[0m\u001b[0mnp_data\u001b[0m\u001b[0;34m)\u001b[0m\u001b[0;34m\u001b[0m\u001b[0;34m\u001b[0m\u001b[0m\n\u001b[0m\u001b[1;32m      2\u001b[0m \u001b[0mones_like_data\u001b[0m\u001b[0;34m\u001b[0m\u001b[0;34m\u001b[0m\u001b[0m\n",
      "\u001b[0;31mTypeError\u001b[0m: ones_like(): argument 'input' (position 1) must be Tensor, not numpy.ndarray"
     ]
    }
   ],
   "source": [
    "ones_like_data = torch.ones_like(np_data)\n",
    "ones_like_data"
   ]
  },
  {
   "cell_type": "code",
   "execution_count": null,
   "metadata": {
    "colab": {
     "base_uri": "https://localhost:8080/",
     "height": 187
    },
    "executionInfo": {
     "elapsed": 484,
     "status": "error",
     "timestamp": 1630137392707,
     "user": {
      "displayName": "Sunny iNeuron",
      "photoUrl": "https://lh3.googleusercontent.com/a-/AOh14GhmXLjrm_XYgByZVmHbyiA9-be_Jt1_fbtrh6e4=s64",
      "userId": "02044749445435352574"
     },
     "user_tz": -330
    },
    "id": "Kfo9JMXbtkJX",
    "outputId": "ea72446c-78b8-4515-93a7-5ac2ae7df1b1"
   },
   "outputs": [
    {
     "ename": "TypeError",
     "evalue": "ignored",
     "output_type": "error",
     "traceback": [
      "\u001b[0;31m---------------------------------------------------------------------------\u001b[0m",
      "\u001b[0;31mTypeError\u001b[0m                                 Traceback (most recent call last)",
      "\u001b[0;32m<ipython-input-7-f683ff416117>\u001b[0m in \u001b[0;36m<module>\u001b[0;34m()\u001b[0m\n\u001b[0;32m----> 1\u001b[0;31m \u001b[0mones_like_data\u001b[0m \u001b[0;34m=\u001b[0m \u001b[0mtorch\u001b[0m\u001b[0;34m.\u001b[0m\u001b[0mones_like\u001b[0m\u001b[0;34m(\u001b[0m\u001b[0mdata\u001b[0m\u001b[0;34m)\u001b[0m\u001b[0;34m\u001b[0m\u001b[0;34m\u001b[0m\u001b[0m\n\u001b[0m\u001b[1;32m      2\u001b[0m \u001b[0mones_like_data\u001b[0m\u001b[0;34m\u001b[0m\u001b[0;34m\u001b[0m\u001b[0m\n",
      "\u001b[0;31mTypeError\u001b[0m: ones_like(): argument 'input' (position 1) must be Tensor, not list"
     ]
    }
   ],
   "source": [
    "ones_like_data = torch.ones_like(data)\n",
    "ones_like_data"
   ]
  },
  {
   "cell_type": "code",
   "execution_count": null,
   "metadata": {
    "colab": {
     "base_uri": "https://localhost:8080/",
     "height": 187
    },
    "executionInfo": {
     "elapsed": 359,
     "status": "error",
     "timestamp": 1630137395777,
     "user": {
      "displayName": "Sunny iNeuron",
      "photoUrl": "https://lh3.googleusercontent.com/a-/AOh14GhmXLjrm_XYgByZVmHbyiA9-be_Jt1_fbtrh6e4=s64",
      "userId": "02044749445435352574"
     },
     "user_tz": -330
    },
    "id": "rRVMvVybto9m",
    "outputId": "39275258-1641-457f-b265-d9cd150c4b14"
   },
   "outputs": [
    {
     "ename": "RuntimeError",
     "evalue": "ignored",
     "output_type": "error",
     "traceback": [
      "\u001b[0;31m---------------------------------------------------------------------------\u001b[0m",
      "\u001b[0;31mRuntimeError\u001b[0m                              Traceback (most recent call last)",
      "\u001b[0;32m<ipython-input-8-a59cdf597fde>\u001b[0m in \u001b[0;36m<module>\u001b[0;34m()\u001b[0m\n\u001b[0;32m----> 1\u001b[0;31m \u001b[0mones_like_data_random\u001b[0m \u001b[0;34m=\u001b[0m \u001b[0mtorch\u001b[0m\u001b[0;34m.\u001b[0m\u001b[0mrand_like\u001b[0m\u001b[0;34m(\u001b[0m\u001b[0mtensor_data_np\u001b[0m\u001b[0;34m)\u001b[0m\u001b[0;34m\u001b[0m\u001b[0;34m\u001b[0m\u001b[0m\n\u001b[0m\u001b[1;32m      2\u001b[0m \u001b[0mones_like_data_random\u001b[0m\u001b[0;34m\u001b[0m\u001b[0;34m\u001b[0m\u001b[0m\n",
      "\u001b[0;31mRuntimeError\u001b[0m: \"check_uniform_bounds\" not implemented for 'Long'"
     ]
    }
   ],
   "source": [
    "ones_like_data_random = torch.rand_like(tensor_data_np)\n",
    "ones_like_data_random"
   ]
  },
  {
   "cell_type": "code",
   "execution_count": null,
   "metadata": {
    "colab": {
     "base_uri": "https://localhost:8080/"
    },
    "executionInfo": {
     "elapsed": 359,
     "status": "ok",
     "timestamp": 1630137398814,
     "user": {
      "displayName": "Sunny iNeuron",
      "photoUrl": "https://lh3.googleusercontent.com/a-/AOh14GhmXLjrm_XYgByZVmHbyiA9-be_Jt1_fbtrh6e4=s64",
      "userId": "02044749445435352574"
     },
     "user_tz": -330
    },
    "id": "ZXjyIlE1t8Us",
    "outputId": "ac9b8f2c-f403-4cdf-f82d-c96a76adbaf5"
   },
   "outputs": [
    {
     "data": {
      "text/plain": [
       "tensor([[0.1158, 0.5232],\n",
       "        [0.7711, 0.1032],\n",
       "        [0.8999, 0.9008]])"
      ]
     },
     "execution_count": 9,
     "metadata": {},
     "output_type": "execute_result"
    }
   ],
   "source": [
    "ones_like_data_random = torch.rand_like(tensor_data_np, dtype=torch.float)\n",
    "ones_like_data_random"
   ]
  },
  {
   "cell_type": "code",
   "execution_count": null,
   "metadata": {
    "colab": {
     "base_uri": "https://localhost:8080/"
    },
    "executionInfo": {
     "elapsed": 14,
     "status": "ok",
     "timestamp": 1630137400582,
     "user": {
      "displayName": "Sunny iNeuron",
      "photoUrl": "https://lh3.googleusercontent.com/a-/AOh14GhmXLjrm_XYgByZVmHbyiA9-be_Jt1_fbtrh6e4=s64",
      "userId": "02044749445435352574"
     },
     "user_tz": -330
    },
    "id": "j8pDzQQMuMFe",
    "outputId": "1df851a7-adbb-4213-87e2-d09c99d2c093"
   },
   "outputs": [
    {
     "data": {
      "text/plain": [
       "tensor([[[0.8552, 0.3978],\n",
       "         [0.3278, 0.8022],\n",
       "         [0.9356, 0.7636]],\n",
       "\n",
       "        [[0.9796, 0.9507],\n",
       "         [0.1033, 0.4170],\n",
       "         [0.1492, 0.2695]],\n",
       "\n",
       "        [[0.9405, 0.1522],\n",
       "         [0.4487, 0.9543],\n",
       "         [0.4466, 0.7527]],\n",
       "\n",
       "        [[0.1595, 0.8797],\n",
       "         [0.2381, 0.9298],\n",
       "         [0.0031, 0.6817]]])"
      ]
     },
     "execution_count": 10,
     "metadata": {},
     "output_type": "execute_result"
    }
   ],
   "source": [
    "shape = (4,3,2)\n",
    "\n",
    "rand_tensor = torch.rand(shape)\n",
    "rand_tensor"
   ]
  },
  {
   "cell_type": "code",
   "execution_count": null,
   "metadata": {
    "colab": {
     "base_uri": "https://localhost:8080/"
    },
    "executionInfo": {
     "elapsed": 326,
     "status": "ok",
     "timestamp": 1630137404975,
     "user": {
      "displayName": "Sunny iNeuron",
      "photoUrl": "https://lh3.googleusercontent.com/a-/AOh14GhmXLjrm_XYgByZVmHbyiA9-be_Jt1_fbtrh6e4=s64",
      "userId": "02044749445435352574"
     },
     "user_tz": -330
    },
    "id": "XO7mZ5P6uexR",
    "outputId": "0520321b-3e1b-4c43-f7c6-ef62ab8e1aeb"
   },
   "outputs": [
    {
     "data": {
      "text/plain": [
       "torch.Size([4, 3, 2])"
      ]
     },
     "execution_count": 11,
     "metadata": {},
     "output_type": "execute_result"
    }
   ],
   "source": [
    "rand_tensor.shape"
   ]
  },
  {
   "cell_type": "code",
   "execution_count": null,
   "metadata": {
    "colab": {
     "base_uri": "https://localhost:8080/"
    },
    "executionInfo": {
     "elapsed": 10,
     "status": "ok",
     "timestamp": 1630137405559,
     "user": {
      "displayName": "Sunny iNeuron",
      "photoUrl": "https://lh3.googleusercontent.com/a-/AOh14GhmXLjrm_XYgByZVmHbyiA9-be_Jt1_fbtrh6e4=s64",
      "userId": "02044749445435352574"
     },
     "user_tz": -330
    },
    "id": "exP8lvqgvknT",
    "outputId": "1ea07c2a-6690-4a48-c36c-a4ea7962bd6c"
   },
   "outputs": [
    {
     "data": {
      "text/plain": [
       "torch.float32"
      ]
     },
     "execution_count": 12,
     "metadata": {},
     "output_type": "execute_result"
    }
   ],
   "source": [
    "rand_tensor.dtype"
   ]
  },
  {
   "cell_type": "code",
   "execution_count": null,
   "metadata": {
    "colab": {
     "base_uri": "https://localhost:8080/"
    },
    "executionInfo": {
     "elapsed": 16,
     "status": "ok",
     "timestamp": 1630137406164,
     "user": {
      "displayName": "Sunny iNeuron",
      "photoUrl": "https://lh3.googleusercontent.com/a-/AOh14GhmXLjrm_XYgByZVmHbyiA9-be_Jt1_fbtrh6e4=s64",
      "userId": "02044749445435352574"
     },
     "user_tz": -330
    },
    "id": "6qDsgWTXv4hS",
    "outputId": "245c0688-0113-4b86-8940-f3bf7a303ac5"
   },
   "outputs": [
    {
     "data": {
      "text/plain": [
       "device(type='cpu')"
      ]
     },
     "execution_count": 13,
     "metadata": {},
     "output_type": "execute_result"
    }
   ],
   "source": [
    "rand_tensor.device"
   ]
  },
  {
   "cell_type": "code",
   "execution_count": null,
   "metadata": {
    "colab": {
     "base_uri": "https://localhost:8080/"
    },
    "executionInfo": {
     "elapsed": 9,
     "status": "ok",
     "timestamp": 1630137406704,
     "user": {
      "displayName": "Sunny iNeuron",
      "photoUrl": "https://lh3.googleusercontent.com/a-/AOh14GhmXLjrm_XYgByZVmHbyiA9-be_Jt1_fbtrh6e4=s64",
      "userId": "02044749445435352574"
     },
     "user_tz": -330
    },
    "id": "PT_d0glpu9p0",
    "outputId": "6f7a7993-0c30-4aac-90bb-4f5b3405fe95"
   },
   "outputs": [
    {
     "data": {
      "text/plain": [
       "tensor([[[1., 1.],\n",
       "         [1., 1.],\n",
       "         [1., 1.]],\n",
       "\n",
       "        [[1., 1.],\n",
       "         [1., 1.],\n",
       "         [1., 1.]],\n",
       "\n",
       "        [[1., 1.],\n",
       "         [1., 1.],\n",
       "         [1., 1.]],\n",
       "\n",
       "        [[1., 1.],\n",
       "         [1., 1.],\n",
       "         [1., 1.]]])"
      ]
     },
     "execution_count": 14,
     "metadata": {},
     "output_type": "execute_result"
    }
   ],
   "source": [
    "ones = torch.ones(shape)\n",
    "ones"
   ]
  },
  {
   "cell_type": "code",
   "execution_count": null,
   "metadata": {
    "colab": {
     "base_uri": "https://localhost:8080/"
    },
    "executionInfo": {
     "elapsed": 15,
     "status": "ok",
     "timestamp": 1630137407664,
     "user": {
      "displayName": "Sunny iNeuron",
      "photoUrl": "https://lh3.googleusercontent.com/a-/AOh14GhmXLjrm_XYgByZVmHbyiA9-be_Jt1_fbtrh6e4=s64",
      "userId": "02044749445435352574"
     },
     "user_tz": -330
    },
    "id": "2Wy-zmSHvIER",
    "outputId": "edde748e-f96e-4113-db6f-ddeb980f9a52"
   },
   "outputs": [
    {
     "data": {
      "text/plain": [
       "tensor([[[0., 0.],\n",
       "         [0., 0.],\n",
       "         [0., 0.]],\n",
       "\n",
       "        [[0., 0.],\n",
       "         [0., 0.],\n",
       "         [0., 0.]],\n",
       "\n",
       "        [[0., 0.],\n",
       "         [0., 0.],\n",
       "         [0., 0.]],\n",
       "\n",
       "        [[0., 0.],\n",
       "         [0., 0.],\n",
       "         [0., 0.]]])"
      ]
     },
     "execution_count": 15,
     "metadata": {},
     "output_type": "execute_result"
    }
   ],
   "source": [
    "zeros = torch.zeros(shape)\n",
    "zeros"
   ]
  },
  {
   "cell_type": "code",
   "execution_count": null,
   "metadata": {
    "colab": {
     "base_uri": "https://localhost:8080/"
    },
    "executionInfo": {
     "elapsed": 355,
     "status": "ok",
     "timestamp": 1630137417010,
     "user": {
      "displayName": "Sunny iNeuron",
      "photoUrl": "https://lh3.googleusercontent.com/a-/AOh14GhmXLjrm_XYgByZVmHbyiA9-be_Jt1_fbtrh6e4=s64",
      "userId": "02044749445435352574"
     },
     "user_tz": -330
    },
    "id": "C1Mz41u6vY8L",
    "outputId": "b0cae908-cd86-4b87-b298-9e60637b16bf"
   },
   "outputs": [
    {
     "data": {
      "text/plain": [
       "tensor([[[3., 3.],\n",
       "         [3., 3.],\n",
       "         [3., 3.]],\n",
       "\n",
       "        [[3., 3.],\n",
       "         [3., 3.],\n",
       "         [3., 3.]],\n",
       "\n",
       "        [[3., 3.],\n",
       "         [3., 3.],\n",
       "         [3., 3.]],\n",
       "\n",
       "        [[3., 3.],\n",
       "         [3., 3.],\n",
       "         [3., 3.]]])"
      ]
     },
     "execution_count": 16,
     "metadata": {},
     "output_type": "execute_result"
    }
   ],
   "source": [
    "ones = torch.ones(shape)\n",
    "ones*3"
   ]
  },
  {
   "cell_type": "code",
   "execution_count": null,
   "metadata": {
    "colab": {
     "base_uri": "https://localhost:8080/"
    },
    "executionInfo": {
     "elapsed": 344,
     "status": "ok",
     "timestamp": 1630137418879,
     "user": {
      "displayName": "Sunny iNeuron",
      "photoUrl": "https://lh3.googleusercontent.com/a-/AOh14GhmXLjrm_XYgByZVmHbyiA9-be_Jt1_fbtrh6e4=s64",
      "userId": "02044749445435352574"
     },
     "user_tz": -330
    },
    "id": "9pAafDVyveyL",
    "outputId": "b474965f-1c20-4a24-c66d-03e16e501251"
   },
   "outputs": [
    {
     "data": {
      "text/plain": [
       "True"
      ]
     },
     "execution_count": 17,
     "metadata": {},
     "output_type": "execute_result"
    }
   ],
   "source": [
    "torch.cuda.is_available()"
   ]
  },
  {
   "cell_type": "code",
   "execution_count": null,
   "metadata": {
    "id": "8_BZ0dt1wIJm"
   },
   "outputs": [],
   "source": [
    "current_device = torch.cuda.current_device()"
   ]
  },
  {
   "cell_type": "code",
   "execution_count": null,
   "metadata": {
    "colab": {
     "base_uri": "https://localhost:8080/",
     "height": 35
    },
    "executionInfo": {
     "elapsed": 395,
     "status": "ok",
     "timestamp": 1630137493652,
     "user": {
      "displayName": "Sunny iNeuron",
      "photoUrl": "https://lh3.googleusercontent.com/a-/AOh14GhmXLjrm_XYgByZVmHbyiA9-be_Jt1_fbtrh6e4=s64",
      "userId": "02044749445435352574"
     },
     "user_tz": -330
    },
    "id": "0C7zXCPXwd9h",
    "outputId": "d9f6e161-7a2a-4eda-db16-be78c085175d"
   },
   "outputs": [
    {
     "data": {
      "application/vnd.google.colaboratory.intrinsic+json": {
       "type": "string"
      },
      "text/plain": [
       "'Tesla K80'"
      ]
     },
     "execution_count": 20,
     "metadata": {},
     "output_type": "execute_result"
    }
   ],
   "source": [
    "torch.cuda.get_device_name(current_device)"
   ]
  },
  {
   "cell_type": "code",
   "execution_count": null,
   "metadata": {
    "colab": {
     "base_uri": "https://localhost:8080/"
    },
    "executionInfo": {
     "elapsed": 372,
     "status": "ok",
     "timestamp": 1630137506617,
     "user": {
      "displayName": "Sunny iNeuron",
      "photoUrl": "https://lh3.googleusercontent.com/a-/AOh14GhmXLjrm_XYgByZVmHbyiA9-be_Jt1_fbtrh6e4=s64",
      "userId": "02044749445435352574"
     },
     "user_tz": -330
    },
    "id": "kZHKFlM6xCQy",
    "outputId": "60d32c74-b777-4320-979b-b24e98c0de18"
   },
   "outputs": [
    {
     "name": "stdout",
     "output_type": "stream",
     "text": [
      "Sat Aug 28 07:58:26 2021       \n",
      "+-----------------------------------------------------------------------------+\n",
      "| NVIDIA-SMI 470.57.02    Driver Version: 460.32.03    CUDA Version: 11.2     |\n",
      "|-------------------------------+----------------------+----------------------+\n",
      "| GPU  Name        Persistence-M| Bus-Id        Disp.A | Volatile Uncorr. ECC |\n",
      "| Fan  Temp  Perf  Pwr:Usage/Cap|         Memory-Usage | GPU-Util  Compute M. |\n",
      "|                               |                      |               MIG M. |\n",
      "|===============================+======================+======================|\n",
      "|   0  Tesla K80           Off  | 00000000:00:04.0 Off |                    0 |\n",
      "| N/A   38C    P8    27W / 149W |      3MiB / 11441MiB |      0%      Default |\n",
      "|                               |                      |                  N/A |\n",
      "+-------------------------------+----------------------+----------------------+\n",
      "                                                                               \n",
      "+-----------------------------------------------------------------------------+\n",
      "| Processes:                                                                  |\n",
      "|  GPU   GI   CI        PID   Type   Process name                  GPU Memory |\n",
      "|        ID   ID                                                   Usage      |\n",
      "|=============================================================================|\n",
      "|  No running processes found                                                 |\n",
      "+-----------------------------------------------------------------------------+\n"
     ]
    }
   ],
   "source": [
    "!nvidia-smi"
   ]
  },
  {
   "cell_type": "code",
   "execution_count": null,
   "metadata": {
    "colab": {
     "base_uri": "https://localhost:8080/"
    },
    "executionInfo": {
     "elapsed": 9768,
     "status": "ok",
     "timestamp": 1630137641099,
     "user": {
      "displayName": "Sunny iNeuron",
      "photoUrl": "https://lh3.googleusercontent.com/a-/AOh14GhmXLjrm_XYgByZVmHbyiA9-be_Jt1_fbtrh6e4=s64",
      "userId": "02044749445435352574"
     },
     "user_tz": -330
    },
    "id": "j9yrkT1FxFZY",
    "outputId": "95a47eb2-8ac1-4a10-cbdf-8e785ce6ebbe"
   },
   "outputs": [
    {
     "name": "stdout",
     "output_type": "stream",
     "text": [
      "cuda:0\n"
     ]
    }
   ],
   "source": [
    "if torch.cuda.is_available():\n",
    "  rand_tensor = rand_tensor.to(\"cuda\") \n",
    "  print(rand_tensor.device)"
   ]
  },
  {
   "cell_type": "markdown",
   "metadata": {
    "id": "il2ZLUQyy78Q"
   },
   "source": [
    "# Concat operations -"
   ]
  },
  {
   "cell_type": "code",
   "execution_count": null,
   "metadata": {
    "colab": {
     "base_uri": "https://localhost:8080/"
    },
    "executionInfo": {
     "elapsed": 365,
     "status": "ok",
     "timestamp": 1630138158890,
     "user": {
      "displayName": "Sunny iNeuron",
      "photoUrl": "https://lh3.googleusercontent.com/a-/AOh14GhmXLjrm_XYgByZVmHbyiA9-be_Jt1_fbtrh6e4=s64",
      "userId": "02044749445435352574"
     },
     "user_tz": -330
    },
    "id": "JDxsy4krxb-Q",
    "outputId": "eff1a15a-a2a5-4007-c60e-4d2ec58789e6"
   },
   "outputs": [
    {
     "data": {
      "text/plain": [
       "tensor([[1., 1.],\n",
       "        [1., 1.]])"
      ]
     },
     "execution_count": 27,
     "metadata": {},
     "output_type": "execute_result"
    }
   ],
   "source": [
    "ones = torch.ones(2,2)\n",
    "ones"
   ]
  },
  {
   "cell_type": "code",
   "execution_count": null,
   "metadata": {
    "colab": {
     "base_uri": "https://localhost:8080/"
    },
    "executionInfo": {
     "elapsed": 325,
     "status": "ok",
     "timestamp": 1630138176104,
     "user": {
      "displayName": "Sunny iNeuron",
      "photoUrl": "https://lh3.googleusercontent.com/a-/AOh14GhmXLjrm_XYgByZVmHbyiA9-be_Jt1_fbtrh6e4=s64",
      "userId": "02044749445435352574"
     },
     "user_tz": -330
    },
    "id": "Y8fWH3BOzZkS",
    "outputId": "233ac66e-b7eb-4c12-fa25-112c45301eb7"
   },
   "outputs": [
    {
     "data": {
      "text/plain": [
       "tensor([[1., 1.],\n",
       "        [1., 1.],\n",
       "        [1., 1.],\n",
       "        [1., 1.],\n",
       "        [1., 1.],\n",
       "        [1., 1.]])"
      ]
     },
     "execution_count": 28,
     "metadata": {},
     "output_type": "execute_result"
    }
   ],
   "source": [
    "torch.cat([ones, ones, ones])"
   ]
  },
  {
   "cell_type": "code",
   "execution_count": null,
   "metadata": {
    "colab": {
     "base_uri": "https://localhost:8080/"
    },
    "executionInfo": {
     "elapsed": 338,
     "status": "ok",
     "timestamp": 1630138187481,
     "user": {
      "displayName": "Sunny iNeuron",
      "photoUrl": "https://lh3.googleusercontent.com/a-/AOh14GhmXLjrm_XYgByZVmHbyiA9-be_Jt1_fbtrh6e4=s64",
      "userId": "02044749445435352574"
     },
     "user_tz": -330
    },
    "id": "Y8RhAcPizhRE",
    "outputId": "092b6c28-2e4d-4735-bae6-c6312e3ffc77"
   },
   "outputs": [
    {
     "data": {
      "text/plain": [
       "tensor([[1., 1., 1., 1., 1., 1.],\n",
       "        [1., 1., 1., 1., 1., 1.]])"
      ]
     },
     "execution_count": 29,
     "metadata": {},
     "output_type": "execute_result"
    }
   ],
   "source": [
    "torch.cat([ones, ones, ones], dim=1)\n"
   ]
  },
  {
   "cell_type": "markdown",
   "metadata": {
    "id": "PzKwralhzwrY"
   },
   "source": [
    "# Arithmatic Ops"
   ]
  },
  {
   "cell_type": "code",
   "execution_count": null,
   "metadata": {
    "colab": {
     "base_uri": "https://localhost:8080/"
    },
    "executionInfo": {
     "elapsed": 332,
     "status": "ok",
     "timestamp": 1630138253541,
     "user": {
      "displayName": "Sunny iNeuron",
      "photoUrl": "https://lh3.googleusercontent.com/a-/AOh14GhmXLjrm_XYgByZVmHbyiA9-be_Jt1_fbtrh6e4=s64",
      "userId": "02044749445435352574"
     },
     "user_tz": -330
    },
    "id": "5c56Nvzwzrqd",
    "outputId": "dba0523f-2dbe-4ecf-dda3-a8cc37fa1054"
   },
   "outputs": [
    {
     "data": {
      "text/plain": [
       "tensor([[2., 2.],\n",
       "        [2., 2.]])"
      ]
     },
     "execution_count": 31,
     "metadata": {},
     "output_type": "execute_result"
    }
   ],
   "source": [
    "y = ones @ ones.T\n",
    "y"
   ]
  },
  {
   "cell_type": "code",
   "execution_count": null,
   "metadata": {
    "colab": {
     "base_uri": "https://localhost:8080/"
    },
    "executionInfo": {
     "elapsed": 310,
     "status": "ok",
     "timestamp": 1630138280754,
     "user": {
      "displayName": "Sunny iNeuron",
      "photoUrl": "https://lh3.googleusercontent.com/a-/AOh14GhmXLjrm_XYgByZVmHbyiA9-be_Jt1_fbtrh6e4=s64",
      "userId": "02044749445435352574"
     },
     "user_tz": -330
    },
    "id": "HlDT28Anz67J",
    "outputId": "1375cb2d-76a8-4f02-b12d-8a6285b56ff2"
   },
   "outputs": [
    {
     "data": {
      "text/plain": [
       "tensor([[2., 2.],\n",
       "        [2., 2.]])"
      ]
     },
     "execution_count": 32,
     "metadata": {},
     "output_type": "execute_result"
    }
   ],
   "source": [
    "y = ones.matmul(ones.T)\n",
    "y"
   ]
  },
  {
   "cell_type": "code",
   "execution_count": null,
   "metadata": {
    "colab": {
     "base_uri": "https://localhost:8080/"
    },
    "executionInfo": {
     "elapsed": 316,
     "status": "ok",
     "timestamp": 1630138302616,
     "user": {
      "displayName": "Sunny iNeuron",
      "photoUrl": "https://lh3.googleusercontent.com/a-/AOh14GhmXLjrm_XYgByZVmHbyiA9-be_Jt1_fbtrh6e4=s64",
      "userId": "02044749445435352574"
     },
     "user_tz": -330
    },
    "id": "ZPstYPrW0CiK",
    "outputId": "5ec6a9a6-97a5-4069-95af-57fb641edc12"
   },
   "outputs": [
    {
     "data": {
      "text/plain": [
       "tensor([[1., 1.],\n",
       "        [1., 1.]])"
      ]
     },
     "execution_count": 33,
     "metadata": {},
     "output_type": "execute_result"
    }
   ],
   "source": [
    "y = ones * ones\n",
    "y "
   ]
  },
  {
   "cell_type": "code",
   "execution_count": null,
   "metadata": {
    "colab": {
     "base_uri": "https://localhost:8080/"
    },
    "executionInfo": {
     "elapsed": 315,
     "status": "ok",
     "timestamp": 1630138324402,
     "user": {
      "displayName": "Sunny iNeuron",
      "photoUrl": "https://lh3.googleusercontent.com/a-/AOh14GhmXLjrm_XYgByZVmHbyiA9-be_Jt1_fbtrh6e4=s64",
      "userId": "02044749445435352574"
     },
     "user_tz": -330
    },
    "id": "PIKPz6wH0HyW",
    "outputId": "89974d2b-642c-41d8-ff53-0189ecbc5f26"
   },
   "outputs": [
    {
     "data": {
      "text/plain": [
       "tensor([[1., 1.],\n",
       "        [1., 1.]])"
      ]
     },
     "execution_count": 34,
     "metadata": {},
     "output_type": "execute_result"
    }
   ],
   "source": [
    "y = ones.mul(ones)\n",
    "y "
   ]
  },
  {
   "cell_type": "code",
   "execution_count": null,
   "metadata": {
    "colab": {
     "base_uri": "https://localhost:8080/"
    },
    "executionInfo": {
     "elapsed": 398,
     "status": "ok",
     "timestamp": 1630138381275,
     "user": {
      "displayName": "Sunny iNeuron",
      "photoUrl": "https://lh3.googleusercontent.com/a-/AOh14GhmXLjrm_XYgByZVmHbyiA9-be_Jt1_fbtrh6e4=s64",
      "userId": "02044749445435352574"
     },
     "user_tz": -330
    },
    "id": "dRrDjjUh0NL8",
    "outputId": "e5bc1320-bdd4-4c29-9c41-1d0a0d608967"
   },
   "outputs": [
    {
     "data": {
      "text/plain": [
       "tensor([[6., 6.],\n",
       "        [6., 6.]])"
      ]
     },
     "execution_count": 36,
     "metadata": {},
     "output_type": "execute_result"
    }
   ],
   "source": [
    "fives = ones + 5\n",
    "fives"
   ]
  },
  {
   "cell_type": "code",
   "execution_count": null,
   "metadata": {
    "colab": {
     "base_uri": "https://localhost:8080/"
    },
    "executionInfo": {
     "elapsed": 339,
     "status": "ok",
     "timestamp": 1630138427808,
     "user": {
      "displayName": "Sunny iNeuron",
      "photoUrl": "https://lh3.googleusercontent.com/a-/AOh14GhmXLjrm_XYgByZVmHbyiA9-be_Jt1_fbtrh6e4=s64",
      "userId": "02044749445435352574"
     },
     "user_tz": -330
    },
    "id": "uk-ILuGO0XDm",
    "outputId": "7c9c8072-df7d-48fd-eaec-7651ee820921"
   },
   "outputs": [
    {
     "data": {
      "text/plain": [
       "tensor([[11., 11.],\n",
       "        [11., 11.]])"
      ]
     },
     "execution_count": 37,
     "metadata": {},
     "output_type": "execute_result"
    }
   ],
   "source": [
    "fives.add_(5)"
   ]
  },
  {
   "cell_type": "code",
   "execution_count": null,
   "metadata": {
    "colab": {
     "base_uri": "https://localhost:8080/"
    },
    "executionInfo": {
     "elapsed": 338,
     "status": "ok",
     "timestamp": 1630138438817,
     "user": {
      "displayName": "Sunny iNeuron",
      "photoUrl": "https://lh3.googleusercontent.com/a-/AOh14GhmXLjrm_XYgByZVmHbyiA9-be_Jt1_fbtrh6e4=s64",
      "userId": "02044749445435352574"
     },
     "user_tz": -330
    },
    "id": "KzWjo0Rl0mbJ",
    "outputId": "f7e12c0f-962e-49bc-a186-fe00e792d671"
   },
   "outputs": [
    {
     "data": {
      "text/plain": [
       "tensor([[11., 11.],\n",
       "        [11., 11.]])"
      ]
     },
     "execution_count": 38,
     "metadata": {},
     "output_type": "execute_result"
    }
   ],
   "source": [
    "fives.item()"
   ]
  },
  {
   "cell_type": "code",
   "execution_count": null,
   "metadata": {
    "colab": {
     "base_uri": "https://localhost:8080/"
    },
    "executionInfo": {
     "elapsed": 403,
     "status": "ok",
     "timestamp": 1630138474218,
     "user": {
      "displayName": "Sunny iNeuron",
      "photoUrl": "https://lh3.googleusercontent.com/a-/AOh14GhmXLjrm_XYgByZVmHbyiA9-be_Jt1_fbtrh6e4=s64",
      "userId": "02044749445435352574"
     },
     "user_tz": -330
    },
    "id": "XWLYlZvt0o_5",
    "outputId": "54b0f506-7699-4069-aad4-eb70341ecafb"
   },
   "outputs": [
    {
     "data": {
      "text/plain": [
       "torch.Tensor"
      ]
     },
     "execution_count": 39,
     "metadata": {},
     "output_type": "execute_result"
    }
   ],
   "source": [
    "type(ones)"
   ]
  },
  {
   "cell_type": "code",
   "execution_count": null,
   "metadata": {
    "colab": {
     "base_uri": "https://localhost:8080/"
    },
    "executionInfo": {
     "elapsed": 402,
     "status": "ok",
     "timestamp": 1630138505560,
     "user": {
      "displayName": "Sunny iNeuron",
      "photoUrl": "https://lh3.googleusercontent.com/a-/AOh14GhmXLjrm_XYgByZVmHbyiA9-be_Jt1_fbtrh6e4=s64",
      "userId": "02044749445435352574"
     },
     "user_tz": -330
    },
    "id": "kw4vCaZ_0xvd",
    "outputId": "97e3a400-bb83-41cd-d3b1-5933d31192fa"
   },
   "outputs": [
    {
     "data": {
      "text/plain": [
       "numpy.ndarray"
      ]
     },
     "execution_count": 40,
     "metadata": {},
     "output_type": "execute_result"
    }
   ],
   "source": [
    "ones_np = ones.numpy()\n",
    "type(ones_np)"
   ]
  },
  {
   "cell_type": "code",
   "execution_count": null,
   "metadata": {
    "colab": {
     "base_uri": "https://localhost:8080/"
    },
    "executionInfo": {
     "elapsed": 312,
     "status": "ok",
     "timestamp": 1630138555949,
     "user": {
      "displayName": "Sunny iNeuron",
      "photoUrl": "https://lh3.googleusercontent.com/a-/AOh14GhmXLjrm_XYgByZVmHbyiA9-be_Jt1_fbtrh6e4=s64",
      "userId": "02044749445435352574"
     },
     "user_tz": -330
    },
    "id": "TyUStgaF05ZL",
    "outputId": "9811d04d-f0b8-460e-cfdd-c468792184df"
   },
   "outputs": [
    {
     "data": {
      "text/plain": [
       "torch.Tensor"
      ]
     },
     "execution_count": 41,
     "metadata": {},
     "output_type": "execute_result"
    }
   ],
   "source": [
    "ones_tensor = torch.from_numpy(ones_np)\n",
    "type(ones_tensor)"
   ]
  },
  {
   "cell_type": "code",
   "execution_count": null,
   "metadata": {
    "id": "Hxk1cyUd1Ft3"
   },
   "outputs": [],
   "source": []
  }
 ],
 "metadata": {
  "accelerator": "GPU",
  "colab": {
   "collapsed_sections": [],
   "name": "Pytorch Basics.ipynb",
   "provenance": []
  },
  "kernelspec": {
   "display_name": "Python 3",
   "language": "python",
   "name": "python3"
  },
  "language_info": {
   "codemirror_mode": {
    "name": "ipython",
    "version": 3
   },
   "file_extension": ".py",
   "mimetype": "text/x-python",
   "name": "python",
   "nbconvert_exporter": "python",
   "pygments_lexer": "ipython3",
   "version": "3.7.15"
  }
 },
 "nbformat": 4,
 "nbformat_minor": 1
}
