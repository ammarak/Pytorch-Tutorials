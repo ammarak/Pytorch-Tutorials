{
 "cells": [
  {
   "cell_type": "markdown",
   "metadata": {
    "id": "MN0s6ne9si8s"
   },
   "source": [
    "$$NN = f(Ws, Bs)$$"
   ]
  },
  {
   "cell_type": "code",
   "execution_count": 1,
   "metadata": {
    "executionInfo": {
     "elapsed": 427,
     "status": "ok",
     "timestamp": 1630740734193,
     "user": {
      "displayName": "colab0 ineuron",
      "photoUrl": "",
      "userId": "16851312232179065356"
     },
     "user_tz": -330
    },
    "id": "99pKY6ornymQ"
   },
   "outputs": [],
   "source": [
    "import torch"
   ]
  },
  {
   "cell_type": "code",
   "execution_count": 2,
   "metadata": {
    "colab": {
     "base_uri": "https://localhost:8080/"
    },
    "executionInfo": {
     "elapsed": 10,
     "status": "ok",
     "timestamp": 1630740734573,
     "user": {
      "displayName": "colab0 ineuron",
      "photoUrl": "",
      "userId": "16851312232179065356"
     },
     "user_tz": -330
    },
    "id": "FBSus4Ewq5xP",
    "outputId": "e5e45529-86f6-45cb-a6f2-e59a6cfd564c"
   },
   "outputs": [
    {
     "name": "stdout",
     "output_type": "stream",
     "text": [
      "tensor(12., grad_fn=<AddBackward0>)\n"
     ]
    }
   ],
   "source": [
    "x = torch.tensor(2.0, requires_grad=True)\n",
    "\n",
    "f = x**2 + x**3\n",
    "\n",
    "print(f)"
   ]
  },
  {
   "cell_type": "code",
   "execution_count": 3,
   "metadata": {
    "executionInfo": {
     "elapsed": 7,
     "status": "ok",
     "timestamp": 1630740734573,
     "user": {
      "displayName": "colab0 ineuron",
      "photoUrl": "",
      "userId": "16851312232179065356"
     },
     "user_tz": -330
    },
    "id": "almSERn5sB3u"
   },
   "outputs": [],
   "source": [
    "f.backward() # df/dx"
   ]
  },
  {
   "cell_type": "code",
   "execution_count": 4,
   "metadata": {
    "colab": {
     "base_uri": "https://localhost:8080/"
    },
    "executionInfo": {
     "elapsed": 7,
     "status": "ok",
     "timestamp": 1630740734573,
     "user": {
      "displayName": "colab0 ineuron",
      "photoUrl": "",
      "userId": "16851312232179065356"
     },
     "user_tz": -330
    },
    "id": "euIcOtnFsHeF",
    "outputId": "333708de-1f78-46e5-f35e-7406cbefe4e6"
   },
   "outputs": [
    {
     "data": {
      "text/plain": [
       "tensor(16.)"
      ]
     },
     "execution_count": 4,
     "metadata": {},
     "output_type": "execute_result"
    }
   ],
   "source": [
    "x.grad"
   ]
  },
  {
   "cell_type": "code",
   "execution_count": 5,
   "metadata": {
    "colab": {
     "base_uri": "https://localhost:8080/"
    },
    "executionInfo": {
     "elapsed": 6,
     "status": "ok",
     "timestamp": 1630740734574,
     "user": {
      "displayName": "colab0 ineuron",
      "photoUrl": "",
      "userId": "16851312232179065356"
     },
     "user_tz": -330
    },
    "id": "rLF5a612sLXk",
    "outputId": "07b645da-12f5-4a30-caf8-cfe9f1fcfe3e"
   },
   "outputs": [
    {
     "data": {
      "text/plain": [
       "16.0"
      ]
     },
     "execution_count": 5,
     "metadata": {},
     "output_type": "execute_result"
    }
   ],
   "source": [
    "x.grad.item()"
   ]
  },
  {
   "cell_type": "code",
   "execution_count": 11,
   "metadata": {
    "colab": {
     "base_uri": "https://localhost:8080/"
    },
    "executionInfo": {
     "elapsed": 340,
     "status": "ok",
     "timestamp": 1630740822617,
     "user": {
      "displayName": "colab0 ineuron",
      "photoUrl": "",
      "userId": "16851312232179065356"
     },
     "user_tz": -330
    },
    "id": "yqsGwqNxsPCL",
    "outputId": "daf90d3f-9c87-4be5-9872-4bcadaca1e41"
   },
   "outputs": [
    {
     "name": "stdout",
     "output_type": "stream",
     "text": [
      "tensor(6., grad_fn=<AddBackward0>)\n"
     ]
    }
   ],
   "source": [
    "x = torch.tensor(2.0, requires_grad=True)\n",
    "y = torch.tensor(1.0, requires_grad=True)\n",
    "\n",
    "\n",
    "f = x**2 + 2*y**3\n",
    "\n",
    "print(f)"
   ]
  },
  {
   "cell_type": "code",
   "execution_count": 7,
   "metadata": {
    "executionInfo": {
     "elapsed": 4,
     "status": "ok",
     "timestamp": 1630740734574,
     "user": {
      "displayName": "colab0 ineuron",
      "photoUrl": "",
      "userId": "16851312232179065356"
     },
     "user_tz": -330
    },
    "id": "CGN7kHK8tmp0"
   },
   "outputs": [],
   "source": [
    "f.backward() # df/dx, df/dy"
   ]
  },
  {
   "cell_type": "code",
   "execution_count": 8,
   "metadata": {
    "colab": {
     "base_uri": "https://localhost:8080/"
    },
    "executionInfo": {
     "elapsed": 654,
     "status": "ok",
     "timestamp": 1630740735225,
     "user": {
      "displayName": "colab0 ineuron",
      "photoUrl": "",
      "userId": "16851312232179065356"
     },
     "user_tz": -330
    },
    "id": "1o0s9aUOtzHz",
    "outputId": "160dd702-af2f-4f3d-fa8e-7a7d252619c7"
   },
   "outputs": [
    {
     "data": {
      "text/plain": [
       "tensor(4.)"
      ]
     },
     "execution_count": 8,
     "metadata": {},
     "output_type": "execute_result"
    }
   ],
   "source": [
    "x.grad"
   ]
  },
  {
   "cell_type": "code",
   "execution_count": 9,
   "metadata": {
    "colab": {
     "base_uri": "https://localhost:8080/"
    },
    "executionInfo": {
     "elapsed": 3,
     "status": "ok",
     "timestamp": 1630740735225,
     "user": {
      "displayName": "colab0 ineuron",
      "photoUrl": "",
      "userId": "16851312232179065356"
     },
     "user_tz": -330
    },
    "id": "hgoARXa8t7eb",
    "outputId": "c7411e05-dd69-45bb-93fc-1b797638708a"
   },
   "outputs": [
    {
     "data": {
      "text/plain": [
       "tensor(6.)"
      ]
     },
     "execution_count": 9,
     "metadata": {},
     "output_type": "execute_result"
    }
   ],
   "source": [
    "y.grad"
   ]
  },
  {
   "cell_type": "code",
   "execution_count": 9,
   "metadata": {
    "executionInfo": {
     "elapsed": 2,
     "status": "ok",
     "timestamp": 1630740735225,
     "user": {
      "displayName": "colab0 ineuron",
      "photoUrl": "",
      "userId": "16851312232179065356"
     },
     "user_tz": -330
    },
    "id": "gsgsX5AVt9MG"
   },
   "outputs": [],
   "source": []
  }
 ],
 "metadata": {
  "accelerator": "GPU",
  "colab": {
   "authorship_tag": "ABX9TyPEHbe+qdsWl3egTmms/yxz",
   "collapsed_sections": [],
   "name": "Autograd.ipynb",
   "provenance": []
  },
  "kernelspec": {
   "display_name": "Python 3",
   "language": "python",
   "name": "python3"
  },
  "language_info": {
   "codemirror_mode": {
    "name": "ipython",
    "version": 3
   },
   "file_extension": ".py",
   "mimetype": "text/x-python",
   "name": "python",
   "nbconvert_exporter": "python",
   "pygments_lexer": "ipython3",
   "version": "3.7.15"
  }
 },
 "nbformat": 4,
 "nbformat_minor": 1
}
