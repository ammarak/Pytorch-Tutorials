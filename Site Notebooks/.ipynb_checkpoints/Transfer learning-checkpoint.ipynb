{
 "cells": [
  {
   "cell_type": "code",
   "execution_count": 1,
   "metadata": {
    "colab": {
     "base_uri": "https://localhost:8080/",
     "height": 35
    },
    "executionInfo": {
     "elapsed": 1590,
     "status": "ok",
     "timestamp": 1630808727858,
     "user": {
      "displayName": "colab0 ineuron",
      "photoUrl": "",
      "userId": "16851312232179065356"
     },
     "user_tz": -330
    },
    "id": "dXi_CmpqyzKI",
    "outputId": "418cc405-c7d8-423f-9443-e7a471f5b0f0"
   },
   "outputs": [
    {
     "data": {
      "application/vnd.google.colaboratory.intrinsic+json": {
       "type": "string"
      },
      "text/plain": [
       "'/content/drive/MyDrive/001_SUNNY_BHAVEEN_CHANDRA/001_My_Classes/DLCVNLP/Live Lectures Material DLCVNLP April 17th batch/ALL NOTES/Day40 Sep 4th (PYTORCH 2nd class)'"
      ]
     },
     "execution_count": 1,
     "metadata": {},
     "output_type": "execute_result"
    }
   ],
   "source": [
    "import os\n",
    "ROOT = \"/content/drive/MyDrive/001_SUNNY_BHAVEEN_CHANDRA/001_My_Classes/DLCVNLP/Live Lectures Material DLCVNLP April 17th batch/ALL NOTES/Day40 Sep 4th (PYTORCH 2nd class)\"\n",
    "\n",
    "os.chdir(ROOT)\n",
    "os.getcwd()"
   ]
  },
  {
   "cell_type": "code",
   "execution_count": 2,
   "metadata": {
    "executionInfo": {
     "elapsed": 4,
     "status": "ok",
     "timestamp": 1630808727859,
     "user": {
      "displayName": "colab0 ineuron",
      "photoUrl": "",
      "userId": "16851312232179065356"
     },
     "user_tz": -330
    },
    "id": "kumnwf06zZ7Z"
   },
   "outputs": [],
   "source": [
    "ZIPFILE = \"./hymenoptera_data.zip\""
   ]
  },
  {
   "cell_type": "code",
   "execution_count": 3,
   "metadata": {
    "executionInfo": {
     "elapsed": 4,
     "status": "ok",
     "timestamp": 1630808727859,
     "user": {
      "displayName": "colab0 ineuron",
      "photoUrl": "",
      "userId": "16851312232179065356"
     },
     "user_tz": -330
    },
    "id": "M3L567gOzm82"
   },
   "outputs": [],
   "source": [
    "from zipfile import ZipFile"
   ]
  },
  {
   "cell_type": "code",
   "execution_count": 4,
   "metadata": {
    "executionInfo": {
     "elapsed": 3,
     "status": "ok",
     "timestamp": 1630808727859,
     "user": {
      "displayName": "colab0 ineuron",
      "photoUrl": "",
      "userId": "16851312232179065356"
     },
     "user_tz": -330
    },
    "id": "sOSqNQUQzrl2"
   },
   "outputs": [],
   "source": [
    "# with ZipFile(ZIPFILE) as f:\n",
    "#   f.extractall()"
   ]
  },
  {
   "cell_type": "code",
   "execution_count": 5,
   "metadata": {
    "executionInfo": {
     "elapsed": 332,
     "status": "ok",
     "timestamp": 1630808728188,
     "user": {
      "displayName": "colab0 ineuron",
      "photoUrl": "",
      "userId": "16851312232179065356"
     },
     "user_tz": -330
    },
    "id": "-wUi771nzwrW"
   },
   "outputs": [],
   "source": [
    "import torch\n",
    "import torch.nn as nn\n",
    "import torch.optim as optim\n",
    "from torch.optim import lr_scheduler\n",
    "import numpy as np\n",
    "import torchvision\n",
    "from torchvision import datasets, models, transforms\n",
    "import matplotlib.pyplot as plt\n",
    "import time\n",
    "import os\n",
    "import copy"
   ]
  },
  {
   "cell_type": "code",
   "execution_count": 6,
   "metadata": {
    "executionInfo": {
     "elapsed": 7,
     "status": "ok",
     "timestamp": 1630808728190,
     "user": {
      "displayName": "colab0 ineuron",
      "photoUrl": "",
      "userId": "16851312232179065356"
     },
     "user_tz": -330
    },
    "id": "BVXxlbBQ0KtP"
   },
   "outputs": [],
   "source": [
    "data_dir = \"./hymenoptera_data\""
   ]
  },
  {
   "cell_type": "code",
   "execution_count": 7,
   "metadata": {
    "executionInfo": {
     "elapsed": 386,
     "status": "ok",
     "timestamp": 1630808728570,
     "user": {
      "displayName": "colab0 ineuron",
      "photoUrl": "",
      "userId": "16851312232179065356"
     },
     "user_tz": -330
    },
    "id": "gf6iFjmz8Hxv"
   },
   "outputs": [],
   "source": [
    "device = torch.device(\"cuda:0\" if torch.cuda.is_available() else \"cpu\")"
   ]
  },
  {
   "cell_type": "code",
   "execution_count": 8,
   "metadata": {
    "colab": {
     "base_uri": "https://localhost:8080/"
    },
    "executionInfo": {
     "elapsed": 7,
     "status": "ok",
     "timestamp": 1630808728571,
     "user": {
      "displayName": "colab0 ineuron",
      "photoUrl": "",
      "userId": "16851312232179065356"
     },
     "user_tz": -330
    },
    "id": "7rjUVxgP0YC2",
    "outputId": "658130b3-dfef-4a80-e41a-75c8206d3881"
   },
   "outputs": [
    {
     "name": "stderr",
     "output_type": "stream",
     "text": [
      "/usr/local/lib/python3.7/dist-packages/torchvision/transforms/transforms.py:917: UserWarning: The use of the transforms.RandomSizedCrop transform is deprecated, please use transforms.RandomResizedCrop instead.\n",
      "  warnings.warn(\"The use of the transforms.RandomSizedCrop transform is deprecated, \" +\n"
     ]
    }
   ],
   "source": [
    "# transforms\n",
    "\n",
    "data_transform = {\n",
    "    \"train\": transforms.Compose([\n",
    "                                 transforms.RandomSizedCrop(224),\n",
    "                                 transforms.RandomHorizontalFlip(),\n",
    "                                 transforms.ToTensor()\n",
    "    ]),\n",
    "    \"val\": transforms.Compose([\n",
    "                                 transforms.Resize(256),\n",
    "                                 transforms.CenterCrop(224),\n",
    "                                 transforms.ToTensor()\n",
    "    ]) \n",
    "}"
   ]
  },
  {
   "cell_type": "code",
   "execution_count": 9,
   "metadata": {
    "executionInfo": {
     "elapsed": 2270,
     "status": "ok",
     "timestamp": 1630808730837,
     "user": {
      "displayName": "colab0 ineuron",
      "photoUrl": "",
      "userId": "16851312232179065356"
     },
     "user_tz": -330
    },
    "id": "KdUls_5B3BXt"
   },
   "outputs": [],
   "source": [
    "# image_dataset = {\n",
    "#     \"train\": datasets.ImageFolder(os.path.join(data_dir, \"train\")),\n",
    "#     \"val\": datasets.ImageFolder(os.path.join(data_dir, \"val\"))\n",
    "# }\n",
    "\n",
    "image_dataset = {\n",
    "    \"train\": datasets.ImageFolder(os.path.join(data_dir, \"train\"),transform=data_transform['train']), # mod\n",
    "    \"val\": datasets.ImageFolder(os.path.join(data_dir, \"val\"),transform=data_transform['val']) # mod\n",
    "}"
   ]
  },
  {
   "cell_type": "code",
   "execution_count": 10,
   "metadata": {
    "colab": {
     "base_uri": "https://localhost:8080/"
    },
    "executionInfo": {
     "elapsed": 8,
     "status": "ok",
     "timestamp": 1630808730837,
     "user": {
      "displayName": "colab0 ineuron",
      "photoUrl": "",
      "userId": "16851312232179065356"
     },
     "user_tz": -330
    },
    "id": "2NS3T-Ib3d_6",
    "outputId": "b3eb7d79-8250-477e-a431-c48842edc637"
   },
   "outputs": [
    {
     "name": "stderr",
     "output_type": "stream",
     "text": [
      "/usr/local/lib/python3.7/dist-packages/torch/utils/data/dataloader.py:481: UserWarning: This DataLoader will create 4 worker processes in total. Our suggested max number of worker in current system is 2, which is smaller than what this DataLoader is going to create. Please be aware that excessive worker creation might get DataLoader running slow or even freeze, lower the worker number to avoid potential slowness/freeze if necessary.\n",
      "  cpuset_checked))\n"
     ]
    }
   ],
   "source": [
    "dataLoader = {\n",
    "    \"train\": torch.utils.data.DataLoader(image_dataset[\"train\"], batch_size = 4, shuffle=True, num_workers=4),\n",
    "    \"val\": torch.utils.data.DataLoader(image_dataset[\"val\"], batch_size = 4, shuffle=True, num_workers=4)\n",
    "}"
   ]
  },
  {
   "cell_type": "code",
   "execution_count": 11,
   "metadata": {
    "colab": {
     "base_uri": "https://localhost:8080/"
    },
    "executionInfo": {
     "elapsed": 8,
     "status": "ok",
     "timestamp": 1630808730838,
     "user": {
      "displayName": "colab0 ineuron",
      "photoUrl": "",
      "userId": "16851312232179065356"
     },
     "user_tz": -330
    },
    "id": "oSHivyuQ4eip",
    "outputId": "ab447276-1ec3-4925-f63f-2be465c07858"
   },
   "outputs": [
    {
     "data": {
      "text/plain": [
       "{'train': 244, 'val': 153}"
      ]
     },
     "execution_count": 11,
     "metadata": {},
     "output_type": "execute_result"
    }
   ],
   "source": [
    "data_sizes = {\n",
    "    \"train\": len(image_dataset[\"train\"]),\n",
    "    \"val\": len(image_dataset[\"val\"])\n",
    "}\n",
    "data_sizes"
   ]
  },
  {
   "cell_type": "code",
   "execution_count": 12,
   "metadata": {
    "colab": {
     "base_uri": "https://localhost:8080/"
    },
    "executionInfo": {
     "elapsed": 6,
     "status": "ok",
     "timestamp": 1630808730838,
     "user": {
      "displayName": "colab0 ineuron",
      "photoUrl": "",
      "userId": "16851312232179065356"
     },
     "user_tz": -330
    },
    "id": "Sr4wM_Bk4swc",
    "outputId": "4b4d0a37-e9be-4968-d2c1-4a66a2a031d0"
   },
   "outputs": [
    {
     "data": {
      "text/plain": [
       "['ants', 'bees']"
      ]
     },
     "execution_count": 12,
     "metadata": {},
     "output_type": "execute_result"
    }
   ],
   "source": [
    "class_names = image_dataset[\"train\"].classes\n",
    "class_names"
   ]
  },
  {
   "cell_type": "code",
   "execution_count": 13,
   "metadata": {
    "colab": {
     "base_uri": "https://localhost:8080/",
     "height": 1000,
     "referenced_widgets": [
      "01ef3ce9c5ba4b8d989833394fb06fed",
      "bd1d4c79da8947e09e7a1386d16ce008",
      "3e45ba0be16c4f978b0a2c540a50cad1",
      "3fa17569438f4752910bf78b5eddb60a",
      "063ba118976748199556702ba06d5757",
      "0a896b01677b4cdea4dc606bedb3b2eb",
      "0b889f562de94c5288f418e168ff1e4f",
      "025d9909667b41b482a69d026544996f",
      "3ce06826bf574269bebf5de6c59fd5d3",
      "469eda57c18a428b8e20738810eb0141",
      "5721126cd7ed46a4b93961f3b3467eec"
     ]
    },
    "executionInfo": {
     "elapsed": 625,
     "status": "ok",
     "timestamp": 1630808731459,
     "user": {
      "displayName": "colab0 ineuron",
      "photoUrl": "",
      "userId": "16851312232179065356"
     },
     "user_tz": -330
    },
    "id": "dYn5-daP40c7",
    "outputId": "c2557c7d-61b4-4aee-9765-69e21d8d71e7"
   },
   "outputs": [
    {
     "name": "stderr",
     "output_type": "stream",
     "text": [
      "Downloading: \"https://download.pytorch.org/models/resnet18-f37072fd.pth\" to /root/.cache/torch/hub/checkpoints/resnet18-f37072fd.pth\n"
     ]
    },
    {
     "data": {
      "application/vnd.jupyter.widget-view+json": {
       "model_id": "01ef3ce9c5ba4b8d989833394fb06fed",
       "version_major": 2,
       "version_minor": 0
      },
      "text/plain": [
       "  0%|          | 0.00/44.7M [00:00<?, ?B/s]"
      ]
     },
     "metadata": {},
     "output_type": "display_data"
    },
    {
     "name": "stdout",
     "output_type": "stream",
     "text": [
      "ResNet(\n",
      "  (conv1): Conv2d(3, 64, kernel_size=(7, 7), stride=(2, 2), padding=(3, 3), bias=False)\n",
      "  (bn1): BatchNorm2d(64, eps=1e-05, momentum=0.1, affine=True, track_running_stats=True)\n",
      "  (relu): ReLU(inplace=True)\n",
      "  (maxpool): MaxPool2d(kernel_size=3, stride=2, padding=1, dilation=1, ceil_mode=False)\n",
      "  (layer1): Sequential(\n",
      "    (0): BasicBlock(\n",
      "      (conv1): Conv2d(64, 64, kernel_size=(3, 3), stride=(1, 1), padding=(1, 1), bias=False)\n",
      "      (bn1): BatchNorm2d(64, eps=1e-05, momentum=0.1, affine=True, track_running_stats=True)\n",
      "      (relu): ReLU(inplace=True)\n",
      "      (conv2): Conv2d(64, 64, kernel_size=(3, 3), stride=(1, 1), padding=(1, 1), bias=False)\n",
      "      (bn2): BatchNorm2d(64, eps=1e-05, momentum=0.1, affine=True, track_running_stats=True)\n",
      "    )\n",
      "    (1): BasicBlock(\n",
      "      (conv1): Conv2d(64, 64, kernel_size=(3, 3), stride=(1, 1), padding=(1, 1), bias=False)\n",
      "      (bn1): BatchNorm2d(64, eps=1e-05, momentum=0.1, affine=True, track_running_stats=True)\n",
      "      (relu): ReLU(inplace=True)\n",
      "      (conv2): Conv2d(64, 64, kernel_size=(3, 3), stride=(1, 1), padding=(1, 1), bias=False)\n",
      "      (bn2): BatchNorm2d(64, eps=1e-05, momentum=0.1, affine=True, track_running_stats=True)\n",
      "    )\n",
      "  )\n",
      "  (layer2): Sequential(\n",
      "    (0): BasicBlock(\n",
      "      (conv1): Conv2d(64, 128, kernel_size=(3, 3), stride=(2, 2), padding=(1, 1), bias=False)\n",
      "      (bn1): BatchNorm2d(128, eps=1e-05, momentum=0.1, affine=True, track_running_stats=True)\n",
      "      (relu): ReLU(inplace=True)\n",
      "      (conv2): Conv2d(128, 128, kernel_size=(3, 3), stride=(1, 1), padding=(1, 1), bias=False)\n",
      "      (bn2): BatchNorm2d(128, eps=1e-05, momentum=0.1, affine=True, track_running_stats=True)\n",
      "      (downsample): Sequential(\n",
      "        (0): Conv2d(64, 128, kernel_size=(1, 1), stride=(2, 2), bias=False)\n",
      "        (1): BatchNorm2d(128, eps=1e-05, momentum=0.1, affine=True, track_running_stats=True)\n",
      "      )\n",
      "    )\n",
      "    (1): BasicBlock(\n",
      "      (conv1): Conv2d(128, 128, kernel_size=(3, 3), stride=(1, 1), padding=(1, 1), bias=False)\n",
      "      (bn1): BatchNorm2d(128, eps=1e-05, momentum=0.1, affine=True, track_running_stats=True)\n",
      "      (relu): ReLU(inplace=True)\n",
      "      (conv2): Conv2d(128, 128, kernel_size=(3, 3), stride=(1, 1), padding=(1, 1), bias=False)\n",
      "      (bn2): BatchNorm2d(128, eps=1e-05, momentum=0.1, affine=True, track_running_stats=True)\n",
      "    )\n",
      "  )\n",
      "  (layer3): Sequential(\n",
      "    (0): BasicBlock(\n",
      "      (conv1): Conv2d(128, 256, kernel_size=(3, 3), stride=(2, 2), padding=(1, 1), bias=False)\n",
      "      (bn1): BatchNorm2d(256, eps=1e-05, momentum=0.1, affine=True, track_running_stats=True)\n",
      "      (relu): ReLU(inplace=True)\n",
      "      (conv2): Conv2d(256, 256, kernel_size=(3, 3), stride=(1, 1), padding=(1, 1), bias=False)\n",
      "      (bn2): BatchNorm2d(256, eps=1e-05, momentum=0.1, affine=True, track_running_stats=True)\n",
      "      (downsample): Sequential(\n",
      "        (0): Conv2d(128, 256, kernel_size=(1, 1), stride=(2, 2), bias=False)\n",
      "        (1): BatchNorm2d(256, eps=1e-05, momentum=0.1, affine=True, track_running_stats=True)\n",
      "      )\n",
      "    )\n",
      "    (1): BasicBlock(\n",
      "      (conv1): Conv2d(256, 256, kernel_size=(3, 3), stride=(1, 1), padding=(1, 1), bias=False)\n",
      "      (bn1): BatchNorm2d(256, eps=1e-05, momentum=0.1, affine=True, track_running_stats=True)\n",
      "      (relu): ReLU(inplace=True)\n",
      "      (conv2): Conv2d(256, 256, kernel_size=(3, 3), stride=(1, 1), padding=(1, 1), bias=False)\n",
      "      (bn2): BatchNorm2d(256, eps=1e-05, momentum=0.1, affine=True, track_running_stats=True)\n",
      "    )\n",
      "  )\n",
      "  (layer4): Sequential(\n",
      "    (0): BasicBlock(\n",
      "      (conv1): Conv2d(256, 512, kernel_size=(3, 3), stride=(2, 2), padding=(1, 1), bias=False)\n",
      "      (bn1): BatchNorm2d(512, eps=1e-05, momentum=0.1, affine=True, track_running_stats=True)\n",
      "      (relu): ReLU(inplace=True)\n",
      "      (conv2): Conv2d(512, 512, kernel_size=(3, 3), stride=(1, 1), padding=(1, 1), bias=False)\n",
      "      (bn2): BatchNorm2d(512, eps=1e-05, momentum=0.1, affine=True, track_running_stats=True)\n",
      "      (downsample): Sequential(\n",
      "        (0): Conv2d(256, 512, kernel_size=(1, 1), stride=(2, 2), bias=False)\n",
      "        (1): BatchNorm2d(512, eps=1e-05, momentum=0.1, affine=True, track_running_stats=True)\n",
      "      )\n",
      "    )\n",
      "    (1): BasicBlock(\n",
      "      (conv1): Conv2d(512, 512, kernel_size=(3, 3), stride=(1, 1), padding=(1, 1), bias=False)\n",
      "      (bn1): BatchNorm2d(512, eps=1e-05, momentum=0.1, affine=True, track_running_stats=True)\n",
      "      (relu): ReLU(inplace=True)\n",
      "      (conv2): Conv2d(512, 512, kernel_size=(3, 3), stride=(1, 1), padding=(1, 1), bias=False)\n",
      "      (bn2): BatchNorm2d(512, eps=1e-05, momentum=0.1, affine=True, track_running_stats=True)\n",
      "    )\n",
      "  )\n",
      "  (avgpool): AdaptiveAvgPool2d(output_size=(1, 1))\n",
      "  (fc): Linear(in_features=512, out_features=1000, bias=True)\n",
      ")\n"
     ]
    }
   ],
   "source": [
    "model_conv = torchvision.models.resnet18(pretrained=True)\n",
    "\n",
    "print(model_conv)"
   ]
  },
  {
   "cell_type": "code",
   "execution_count": 14,
   "metadata": {
    "executionInfo": {
     "elapsed": 26,
     "status": "ok",
     "timestamp": 1630808731460,
     "user": {
      "displayName": "colab0 ineuron",
      "photoUrl": "",
      "userId": "16851312232179065356"
     },
     "user_tz": -330
    },
    "id": "xZYnrnyM57gD"
   },
   "outputs": [],
   "source": [
    "# freezing the conv layers\n",
    "for param in model_conv.parameters():\n",
    "  param.required_grad = False"
   ]
  },
  {
   "cell_type": "code",
   "execution_count": 15,
   "metadata": {
    "colab": {
     "base_uri": "https://localhost:8080/"
    },
    "executionInfo": {
     "elapsed": 26,
     "status": "ok",
     "timestamp": 1630808731461,
     "user": {
      "displayName": "colab0 ineuron",
      "photoUrl": "",
      "userId": "16851312232179065356"
     },
     "user_tz": -330
    },
    "id": "eNtVCvTu6W-x",
    "outputId": "80cab725-0bf8-4f7d-d5d7-19d9c1a888de"
   },
   "outputs": [
    {
     "data": {
      "text/plain": [
       "512"
      ]
     },
     "execution_count": 15,
     "metadata": {},
     "output_type": "execute_result"
    }
   ],
   "source": [
    "num_ftrs = model_conv.fc.in_features\n",
    "\n",
    "num_ftrs"
   ]
  },
  {
   "cell_type": "code",
   "execution_count": 16,
   "metadata": {
    "colab": {
     "base_uri": "https://localhost:8080/"
    },
    "executionInfo": {
     "elapsed": 21,
     "status": "ok",
     "timestamp": 1630808731461,
     "user": {
      "displayName": "colab0 ineuron",
      "photoUrl": "",
      "userId": "16851312232179065356"
     },
     "user_tz": -330
    },
    "id": "0_I6Ibh87taB",
    "outputId": "7296f2fe-d431-4d06-b9cd-64ebfc44b9e3"
   },
   "outputs": [
    {
     "data": {
      "text/plain": [
       "Linear(in_features=512, out_features=1000, bias=True)"
      ]
     },
     "execution_count": 16,
     "metadata": {},
     "output_type": "execute_result"
    }
   ],
   "source": [
    "model_conv.fc"
   ]
  },
  {
   "cell_type": "code",
   "execution_count": 17,
   "metadata": {
    "executionInfo": {
     "elapsed": 17,
     "status": "ok",
     "timestamp": 1630808731461,
     "user": {
      "displayName": "colab0 ineuron",
      "photoUrl": "",
      "userId": "16851312232179065356"
     },
     "user_tz": -330
    },
    "id": "qD7JMb5268Zw"
   },
   "outputs": [],
   "source": [
    "no_of_classes = len(class_names)\n",
    "\n",
    "model_conv.fc = nn.Linear(num_ftrs, no_of_classes) # incomming, outgoing edges \n"
   ]
  },
  {
   "cell_type": "code",
   "execution_count": 18,
   "metadata": {
    "colab": {
     "base_uri": "https://localhost:8080/"
    },
    "executionInfo": {
     "elapsed": 17,
     "status": "ok",
     "timestamp": 1630808731463,
     "user": {
      "displayName": "colab0 ineuron",
      "photoUrl": "",
      "userId": "16851312232179065356"
     },
     "user_tz": -330
    },
    "id": "-QDT7qug7x_O",
    "outputId": "2d0f8d62-dd28-4a2c-b75a-3dba979b262e"
   },
   "outputs": [
    {
     "name": "stdout",
     "output_type": "stream",
     "text": [
      "ResNet(\n",
      "  (conv1): Conv2d(3, 64, kernel_size=(7, 7), stride=(2, 2), padding=(3, 3), bias=False)\n",
      "  (bn1): BatchNorm2d(64, eps=1e-05, momentum=0.1, affine=True, track_running_stats=True)\n",
      "  (relu): ReLU(inplace=True)\n",
      "  (maxpool): MaxPool2d(kernel_size=3, stride=2, padding=1, dilation=1, ceil_mode=False)\n",
      "  (layer1): Sequential(\n",
      "    (0): BasicBlock(\n",
      "      (conv1): Conv2d(64, 64, kernel_size=(3, 3), stride=(1, 1), padding=(1, 1), bias=False)\n",
      "      (bn1): BatchNorm2d(64, eps=1e-05, momentum=0.1, affine=True, track_running_stats=True)\n",
      "      (relu): ReLU(inplace=True)\n",
      "      (conv2): Conv2d(64, 64, kernel_size=(3, 3), stride=(1, 1), padding=(1, 1), bias=False)\n",
      "      (bn2): BatchNorm2d(64, eps=1e-05, momentum=0.1, affine=True, track_running_stats=True)\n",
      "    )\n",
      "    (1): BasicBlock(\n",
      "      (conv1): Conv2d(64, 64, kernel_size=(3, 3), stride=(1, 1), padding=(1, 1), bias=False)\n",
      "      (bn1): BatchNorm2d(64, eps=1e-05, momentum=0.1, affine=True, track_running_stats=True)\n",
      "      (relu): ReLU(inplace=True)\n",
      "      (conv2): Conv2d(64, 64, kernel_size=(3, 3), stride=(1, 1), padding=(1, 1), bias=False)\n",
      "      (bn2): BatchNorm2d(64, eps=1e-05, momentum=0.1, affine=True, track_running_stats=True)\n",
      "    )\n",
      "  )\n",
      "  (layer2): Sequential(\n",
      "    (0): BasicBlock(\n",
      "      (conv1): Conv2d(64, 128, kernel_size=(3, 3), stride=(2, 2), padding=(1, 1), bias=False)\n",
      "      (bn1): BatchNorm2d(128, eps=1e-05, momentum=0.1, affine=True, track_running_stats=True)\n",
      "      (relu): ReLU(inplace=True)\n",
      "      (conv2): Conv2d(128, 128, kernel_size=(3, 3), stride=(1, 1), padding=(1, 1), bias=False)\n",
      "      (bn2): BatchNorm2d(128, eps=1e-05, momentum=0.1, affine=True, track_running_stats=True)\n",
      "      (downsample): Sequential(\n",
      "        (0): Conv2d(64, 128, kernel_size=(1, 1), stride=(2, 2), bias=False)\n",
      "        (1): BatchNorm2d(128, eps=1e-05, momentum=0.1, affine=True, track_running_stats=True)\n",
      "      )\n",
      "    )\n",
      "    (1): BasicBlock(\n",
      "      (conv1): Conv2d(128, 128, kernel_size=(3, 3), stride=(1, 1), padding=(1, 1), bias=False)\n",
      "      (bn1): BatchNorm2d(128, eps=1e-05, momentum=0.1, affine=True, track_running_stats=True)\n",
      "      (relu): ReLU(inplace=True)\n",
      "      (conv2): Conv2d(128, 128, kernel_size=(3, 3), stride=(1, 1), padding=(1, 1), bias=False)\n",
      "      (bn2): BatchNorm2d(128, eps=1e-05, momentum=0.1, affine=True, track_running_stats=True)\n",
      "    )\n",
      "  )\n",
      "  (layer3): Sequential(\n",
      "    (0): BasicBlock(\n",
      "      (conv1): Conv2d(128, 256, kernel_size=(3, 3), stride=(2, 2), padding=(1, 1), bias=False)\n",
      "      (bn1): BatchNorm2d(256, eps=1e-05, momentum=0.1, affine=True, track_running_stats=True)\n",
      "      (relu): ReLU(inplace=True)\n",
      "      (conv2): Conv2d(256, 256, kernel_size=(3, 3), stride=(1, 1), padding=(1, 1), bias=False)\n",
      "      (bn2): BatchNorm2d(256, eps=1e-05, momentum=0.1, affine=True, track_running_stats=True)\n",
      "      (downsample): Sequential(\n",
      "        (0): Conv2d(128, 256, kernel_size=(1, 1), stride=(2, 2), bias=False)\n",
      "        (1): BatchNorm2d(256, eps=1e-05, momentum=0.1, affine=True, track_running_stats=True)\n",
      "      )\n",
      "    )\n",
      "    (1): BasicBlock(\n",
      "      (conv1): Conv2d(256, 256, kernel_size=(3, 3), stride=(1, 1), padding=(1, 1), bias=False)\n",
      "      (bn1): BatchNorm2d(256, eps=1e-05, momentum=0.1, affine=True, track_running_stats=True)\n",
      "      (relu): ReLU(inplace=True)\n",
      "      (conv2): Conv2d(256, 256, kernel_size=(3, 3), stride=(1, 1), padding=(1, 1), bias=False)\n",
      "      (bn2): BatchNorm2d(256, eps=1e-05, momentum=0.1, affine=True, track_running_stats=True)\n",
      "    )\n",
      "  )\n",
      "  (layer4): Sequential(\n",
      "    (0): BasicBlock(\n",
      "      (conv1): Conv2d(256, 512, kernel_size=(3, 3), stride=(2, 2), padding=(1, 1), bias=False)\n",
      "      (bn1): BatchNorm2d(512, eps=1e-05, momentum=0.1, affine=True, track_running_stats=True)\n",
      "      (relu): ReLU(inplace=True)\n",
      "      (conv2): Conv2d(512, 512, kernel_size=(3, 3), stride=(1, 1), padding=(1, 1), bias=False)\n",
      "      (bn2): BatchNorm2d(512, eps=1e-05, momentum=0.1, affine=True, track_running_stats=True)\n",
      "      (downsample): Sequential(\n",
      "        (0): Conv2d(256, 512, kernel_size=(1, 1), stride=(2, 2), bias=False)\n",
      "        (1): BatchNorm2d(512, eps=1e-05, momentum=0.1, affine=True, track_running_stats=True)\n",
      "      )\n",
      "    )\n",
      "    (1): BasicBlock(\n",
      "      (conv1): Conv2d(512, 512, kernel_size=(3, 3), stride=(1, 1), padding=(1, 1), bias=False)\n",
      "      (bn1): BatchNorm2d(512, eps=1e-05, momentum=0.1, affine=True, track_running_stats=True)\n",
      "      (relu): ReLU(inplace=True)\n",
      "      (conv2): Conv2d(512, 512, kernel_size=(3, 3), stride=(1, 1), padding=(1, 1), bias=False)\n",
      "      (bn2): BatchNorm2d(512, eps=1e-05, momentum=0.1, affine=True, track_running_stats=True)\n",
      "    )\n",
      "  )\n",
      "  (avgpool): AdaptiveAvgPool2d(output_size=(1, 1))\n",
      "  (fc): Linear(in_features=512, out_features=2, bias=True)\n",
      ")\n"
     ]
    }
   ],
   "source": [
    "print(model_conv)"
   ]
  },
  {
   "cell_type": "code",
   "execution_count": 19,
   "metadata": {
    "executionInfo": {
     "elapsed": 6466,
     "status": "ok",
     "timestamp": 1630808737916,
     "user": {
      "displayName": "colab0 ineuron",
      "photoUrl": "",
      "userId": "16851312232179065356"
     },
     "user_tz": -330
    },
    "id": "2RXah1bu7z6p"
   },
   "outputs": [],
   "source": [
    "model_conv = model_conv.to(device)"
   ]
  },
  {
   "cell_type": "code",
   "execution_count": 20,
   "metadata": {
    "executionInfo": {
     "elapsed": 12,
     "status": "ok",
     "timestamp": 1630808737922,
     "user": {
      "displayName": "colab0 ineuron",
      "photoUrl": "",
      "userId": "16851312232179065356"
     },
     "user_tz": -330
    },
    "id": "0eNf8XKQ8KZ4"
   },
   "outputs": [],
   "source": [
    "loss_fn = nn.CrossEntropyLoss()\n",
    "optimizer = optim.Adam(model_conv.fc.parameters(), lr=0.001)"
   ]
  },
  {
   "cell_type": "code",
   "execution_count": 21,
   "metadata": {
    "executionInfo": {
     "elapsed": 12,
     "status": "ok",
     "timestamp": 1630808737923,
     "user": {
      "displayName": "colab0 ineuron",
      "photoUrl": "",
      "userId": "16851312232179065356"
     },
     "user_tz": -330
    },
    "id": "9IrZDvbq8niT"
   },
   "outputs": [],
   "source": [
    "exp_lr_scheduler = lr_scheduler.StepLR(optimizer, step_size=7, gamma=0.1)"
   ]
  },
  {
   "cell_type": "code",
   "execution_count": 24,
   "metadata": {
    "executionInfo": {
     "elapsed": 3,
     "status": "ok",
     "timestamp": 1630808798290,
     "user": {
      "displayName": "colab0 ineuron",
      "photoUrl": "",
      "userId": "16851312232179065356"
     },
     "user_tz": -330
    },
    "id": "dLvLProK87Dw"
   },
   "outputs": [],
   "source": [
    "def train_loop(model, loss_fn, optimizer, scheduler, num_epochs=20):\n",
    "\n",
    "  best_model_wts = copy.deepcopy(model.state_dict())\n",
    "  best_acc = 0.0\n",
    "\n",
    "  for epoch in range(num_epochs):\n",
    "    print(f\"Epoch {epoch}/{num_epochs - 1}\")\n",
    "    print(\"==\"*10)\n",
    "\n",
    "    for phase in [\"train\", \"val\"]:\n",
    "      training = phase == \"train\"\n",
    "      if training:\n",
    "        model.train() # sets the training mode\n",
    "      else:\n",
    "        model.eval() # sets the evaluation mode\n",
    "\n",
    "      running_loss = 0.0\n",
    "      running_corrects = 0\n",
    "\n",
    "      for inputs, labels in dataLoader[phase]:\n",
    "        inputs = inputs.to(device)\n",
    "        labels = labels.to(device)\n",
    "\n",
    "        optimizer.zero_grad()\n",
    "\n",
    "        with torch.set_grad_enabled(training):\n",
    "          outputs = model(inputs)\n",
    "\n",
    "          _, preds = torch.max(outputs, 1)\n",
    "          loss = loss_fn(outputs, preds)\n",
    "\n",
    "          if training:\n",
    "            loss.backward()\n",
    "            optimizer.step()\n",
    "\n",
    "        running_loss += loss.item() * inputs.size(0)\n",
    "        running_corrects += torch.sum(preds == labels.data)\n",
    "\n",
    "      if training:\n",
    "        scheduler.step()\n",
    "\n",
    "      epoch_loss = running_loss / data_sizes[phase]\n",
    "      epoch_acc = running_corrects.double() / data_sizes[phase] # mod\n",
    "\n",
    "      print(f\"{phase}, Loss: {epoch_loss}, accuracy: {epoch_acc}\")\n",
    "      if not training and epoch_acc > best_acc:\n",
    "        best_acc = epoch_acc\n",
    "        best_model_wts = copy.deepcopy(model.state_dict())\n",
    "  \n",
    "  model.load_state_dict(best_model_wts)\n",
    "  return model\n",
    "\n",
    "\n",
    "        \n",
    "\n",
    "\n"
   ]
  },
  {
   "cell_type": "code",
   "execution_count": 25,
   "metadata": {
    "colab": {
     "base_uri": "https://localhost:8080/"
    },
    "executionInfo": {
     "elapsed": 86039,
     "status": "ok",
     "timestamp": 1630808884876,
     "user": {
      "displayName": "colab0 ineuron",
      "photoUrl": "",
      "userId": "16851312232179065356"
     },
     "user_tz": -330
    },
    "id": "b-mY-4anG4nW",
    "outputId": "4ccdea36-38c1-4b75-84d9-6eae4bc0d967"
   },
   "outputs": [
    {
     "name": "stdout",
     "output_type": "stream",
     "text": [
      "Epoch 0/19\n",
      "====================\n"
     ]
    },
    {
     "name": "stderr",
     "output_type": "stream",
     "text": [
      "/usr/local/lib/python3.7/dist-packages/torch/utils/data/dataloader.py:481: UserWarning: This DataLoader will create 4 worker processes in total. Our suggested max number of worker in current system is 2, which is smaller than what this DataLoader is going to create. Please be aware that excessive worker creation might get DataLoader running slow or even freeze, lower the worker number to avoid potential slowness/freeze if necessary.\n",
      "  cpuset_checked))\n"
     ]
    },
    {
     "name": "stdout",
     "output_type": "stream",
     "text": [
      "train, Loss: 7.532173424165269e-05, accuracy: 0.49590163934426235\n",
      "val, Loss: 0.0001265768638654217, accuracy: 0.542483660130719\n",
      "Epoch 1/19\n",
      "====================\n",
      "train, Loss: 7.000964692675462e-05, accuracy: 0.49590163934426235\n",
      "val, Loss: 0.00010131899847795049, accuracy: 0.542483660130719\n",
      "Epoch 2/19\n",
      "====================\n",
      "train, Loss: 6.210234944580302e-05, accuracy: 0.49590163934426235\n",
      "val, Loss: 8.925120924342004e-05, accuracy: 0.542483660130719\n",
      "Epoch 3/19\n",
      "====================\n",
      "train, Loss: 9.394090664530073e-05, accuracy: 0.49590163934426235\n",
      "val, Loss: 0.00010269415531118378, accuracy: 0.542483660130719\n",
      "Epoch 4/19\n",
      "====================\n",
      "train, Loss: 0.00014609664509914526, accuracy: 0.49590163934426235\n",
      "val, Loss: 6.327511158922468e-05, accuracy: 0.542483660130719\n",
      "Epoch 5/19\n",
      "====================\n",
      "train, Loss: 6.047579960873232e-05, accuracy: 0.49590163934426235\n",
      "val, Loss: 6.512218553824841e-05, accuracy: 0.542483660130719\n",
      "Epoch 6/19\n",
      "====================\n",
      "train, Loss: 7.298129402756114e-05, accuracy: 0.49590163934426235\n",
      "val, Loss: 7.610039690417562e-05, accuracy: 0.542483660130719\n",
      "Epoch 7/19\n",
      "====================\n",
      "train, Loss: 9.720127838561178e-05, accuracy: 0.49590163934426235\n",
      "val, Loss: 4.122063456616517e-05, accuracy: 0.542483660130719\n",
      "Epoch 8/19\n",
      "====================\n",
      "train, Loss: 4.406206864557328e-05, accuracy: 0.49590163934426235\n",
      "val, Loss: 5.245219001177378e-05, accuracy: 0.542483660130719\n",
      "Epoch 9/19\n",
      "====================\n",
      "train, Loss: 5.4368365498867505e-05, accuracy: 0.49590163934426235\n",
      "val, Loss: 6.495897265101115e-05, accuracy: 0.542483660130719\n",
      "Epoch 10/19\n",
      "====================\n",
      "train, Loss: 3.690781901599114e-05, accuracy: 0.49590163934426235\n",
      "val, Loss: 4.9965790239618514e-05, accuracy: 0.542483660130719\n",
      "Epoch 11/19\n",
      "====================\n",
      "train, Loss: 3.9150767719786285e-05, accuracy: 0.49590163934426235\n",
      "val, Loss: 7.254764683369823e-05, accuracy: 0.542483660130719\n",
      "Epoch 12/19\n",
      "====================\n",
      "train, Loss: 4.333070267078211e-05, accuracy: 0.49590163934426235\n",
      "val, Loss: 3.9886064460125196e-05, accuracy: 0.542483660130719\n",
      "Epoch 13/19\n",
      "====================\n",
      "train, Loss: 5.3948636825046634e-05, accuracy: 0.49590163934426235\n",
      "val, Loss: 5.4985798319084175e-05, accuracy: 0.542483660130719\n",
      "Epoch 14/19\n",
      "====================\n",
      "train, Loss: 3.523880100221474e-05, accuracy: 0.49590163934426235\n",
      "val, Loss: 5.307090825057208e-05, accuracy: 0.542483660130719\n",
      "Epoch 15/19\n",
      "====================\n",
      "train, Loss: 3.676266451144389e-05, accuracy: 0.49590163934426235\n",
      "val, Loss: 5.395913534681503e-05, accuracy: 0.542483660130719\n",
      "Epoch 16/19\n",
      "====================\n",
      "train, Loss: 3.538839733724284e-05, accuracy: 0.49590163934426235\n",
      "val, Loss: 4.9681274468443295e-05, accuracy: 0.542483660130719\n",
      "Epoch 17/19\n",
      "====================\n",
      "train, Loss: 0.00010029716059896183, accuracy: 0.49590163934426235\n",
      "val, Loss: 4.482352177966081e-05, accuracy: 0.542483660130719\n",
      "Epoch 18/19\n",
      "====================\n",
      "train, Loss: 3.9393260015115586e-05, accuracy: 0.49590163934426235\n",
      "val, Loss: 6.773873905200352e-05, accuracy: 0.542483660130719\n",
      "Epoch 19/19\n",
      "====================\n",
      "train, Loss: 3.443635387902461e-05, accuracy: 0.49590163934426235\n",
      "val, Loss: 5.2822797962179206e-05, accuracy: 0.542483660130719\n"
     ]
    }
   ],
   "source": [
    "model = train_loop(model_conv, loss_fn, optimizer, exp_lr_scheduler, num_epochs=20)"
   ]
  },
  {
   "cell_type": "code",
   "execution_count": null,
   "metadata": {
    "executionInfo": {
     "elapsed": 10,
     "status": "aborted",
     "timestamp": 1630808763523,
     "user": {
      "displayName": "colab0 ineuron",
      "photoUrl": "",
      "userId": "16851312232179065356"
     },
     "user_tz": -330
    },
    "id": "OdSXMdLxIvX1"
   },
   "outputs": [],
   "source": []
  }
 ],
 "metadata": {
  "accelerator": "GPU",
  "colab": {
   "authorship_tag": "ABX9TyOgDNs6l0xUVHRDS6awR15H",
   "collapsed_sections": [],
   "mount_file_id": "18VruHZtHf0ajmvAs_GX1osAqqdIw-JA5",
   "name": "Transfer learning.ipynb",
   "provenance": []
  },
  "kernelspec": {
   "display_name": "Python 3",
   "language": "python",
   "name": "python3"
  },
  "language_info": {
   "codemirror_mode": {
    "name": "ipython",
    "version": 3
   },
   "file_extension": ".py",
   "mimetype": "text/x-python",
   "name": "python",
   "nbconvert_exporter": "python",
   "pygments_lexer": "ipython3",
   "version": "3.7.15"
  },
  "widgets": {
   "application/vnd.jupyter.widget-state+json": {
    "01ef3ce9c5ba4b8d989833394fb06fed": {
     "model_module": "@jupyter-widgets/controls",
     "model_module_version": "1.5.0",
     "model_name": "HBoxModel",
     "state": {
      "_dom_classes": [],
      "_model_module": "@jupyter-widgets/controls",
      "_model_module_version": "1.5.0",
      "_model_name": "HBoxModel",
      "_view_count": null,
      "_view_module": "@jupyter-widgets/controls",
      "_view_module_version": "1.5.0",
      "_view_name": "HBoxView",
      "box_style": "",
      "children": [
       "IPY_MODEL_3e45ba0be16c4f978b0a2c540a50cad1",
       "IPY_MODEL_3fa17569438f4752910bf78b5eddb60a",
       "IPY_MODEL_063ba118976748199556702ba06d5757"
      ],
      "layout": "IPY_MODEL_bd1d4c79da8947e09e7a1386d16ce008"
     }
    },
    "025d9909667b41b482a69d026544996f": {
     "model_module": "@jupyter-widgets/controls",
     "model_module_version": "1.5.0",
     "model_name": "ProgressStyleModel",
     "state": {
      "_model_module": "@jupyter-widgets/controls",
      "_model_module_version": "1.5.0",
      "_model_name": "ProgressStyleModel",
      "_view_count": null,
      "_view_module": "@jupyter-widgets/base",
      "_view_module_version": "1.2.0",
      "_view_name": "StyleView",
      "bar_color": null,
      "description_width": ""
     }
    },
    "063ba118976748199556702ba06d5757": {
     "model_module": "@jupyter-widgets/controls",
     "model_module_version": "1.5.0",
     "model_name": "HTMLModel",
     "state": {
      "_dom_classes": [],
      "_model_module": "@jupyter-widgets/controls",
      "_model_module_version": "1.5.0",
      "_model_name": "HTMLModel",
      "_view_count": null,
      "_view_module": "@jupyter-widgets/controls",
      "_view_module_version": "1.5.0",
      "_view_name": "HTMLView",
      "description": "",
      "description_tooltip": null,
      "layout": "IPY_MODEL_5721126cd7ed46a4b93961f3b3467eec",
      "placeholder": "​",
      "style": "IPY_MODEL_469eda57c18a428b8e20738810eb0141",
      "value": " 44.7M/44.7M [00:00&lt;00:00, 152MB/s]"
     }
    },
    "0a896b01677b4cdea4dc606bedb3b2eb": {
     "model_module": "@jupyter-widgets/controls",
     "model_module_version": "1.5.0",
     "model_name": "DescriptionStyleModel",
     "state": {
      "_model_module": "@jupyter-widgets/controls",
      "_model_module_version": "1.5.0",
      "_model_name": "DescriptionStyleModel",
      "_view_count": null,
      "_view_module": "@jupyter-widgets/base",
      "_view_module_version": "1.2.0",
      "_view_name": "StyleView",
      "description_width": ""
     }
    },
    "0b889f562de94c5288f418e168ff1e4f": {
     "model_module": "@jupyter-widgets/base",
     "model_module_version": "1.2.0",
     "model_name": "LayoutModel",
     "state": {
      "_model_module": "@jupyter-widgets/base",
      "_model_module_version": "1.2.0",
      "_model_name": "LayoutModel",
      "_view_count": null,
      "_view_module": "@jupyter-widgets/base",
      "_view_module_version": "1.2.0",
      "_view_name": "LayoutView",
      "align_content": null,
      "align_items": null,
      "align_self": null,
      "border": null,
      "bottom": null,
      "display": null,
      "flex": null,
      "flex_flow": null,
      "grid_area": null,
      "grid_auto_columns": null,
      "grid_auto_flow": null,
      "grid_auto_rows": null,
      "grid_column": null,
      "grid_gap": null,
      "grid_row": null,
      "grid_template_areas": null,
      "grid_template_columns": null,
      "grid_template_rows": null,
      "height": null,
      "justify_content": null,
      "justify_items": null,
      "left": null,
      "margin": null,
      "max_height": null,
      "max_width": null,
      "min_height": null,
      "min_width": null,
      "object_fit": null,
      "object_position": null,
      "order": null,
      "overflow": null,
      "overflow_x": null,
      "overflow_y": null,
      "padding": null,
      "right": null,
      "top": null,
      "visibility": null,
      "width": null
     }
    },
    "3ce06826bf574269bebf5de6c59fd5d3": {
     "model_module": "@jupyter-widgets/base",
     "model_module_version": "1.2.0",
     "model_name": "LayoutModel",
     "state": {
      "_model_module": "@jupyter-widgets/base",
      "_model_module_version": "1.2.0",
      "_model_name": "LayoutModel",
      "_view_count": null,
      "_view_module": "@jupyter-widgets/base",
      "_view_module_version": "1.2.0",
      "_view_name": "LayoutView",
      "align_content": null,
      "align_items": null,
      "align_self": null,
      "border": null,
      "bottom": null,
      "display": null,
      "flex": null,
      "flex_flow": null,
      "grid_area": null,
      "grid_auto_columns": null,
      "grid_auto_flow": null,
      "grid_auto_rows": null,
      "grid_column": null,
      "grid_gap": null,
      "grid_row": null,
      "grid_template_areas": null,
      "grid_template_columns": null,
      "grid_template_rows": null,
      "height": null,
      "justify_content": null,
      "justify_items": null,
      "left": null,
      "margin": null,
      "max_height": null,
      "max_width": null,
      "min_height": null,
      "min_width": null,
      "object_fit": null,
      "object_position": null,
      "order": null,
      "overflow": null,
      "overflow_x": null,
      "overflow_y": null,
      "padding": null,
      "right": null,
      "top": null,
      "visibility": null,
      "width": null
     }
    },
    "3e45ba0be16c4f978b0a2c540a50cad1": {
     "model_module": "@jupyter-widgets/controls",
     "model_module_version": "1.5.0",
     "model_name": "HTMLModel",
     "state": {
      "_dom_classes": [],
      "_model_module": "@jupyter-widgets/controls",
      "_model_module_version": "1.5.0",
      "_model_name": "HTMLModel",
      "_view_count": null,
      "_view_module": "@jupyter-widgets/controls",
      "_view_module_version": "1.5.0",
      "_view_name": "HTMLView",
      "description": "",
      "description_tooltip": null,
      "layout": "IPY_MODEL_0b889f562de94c5288f418e168ff1e4f",
      "placeholder": "​",
      "style": "IPY_MODEL_0a896b01677b4cdea4dc606bedb3b2eb",
      "value": "100%"
     }
    },
    "3fa17569438f4752910bf78b5eddb60a": {
     "model_module": "@jupyter-widgets/controls",
     "model_module_version": "1.5.0",
     "model_name": "FloatProgressModel",
     "state": {
      "_dom_classes": [],
      "_model_module": "@jupyter-widgets/controls",
      "_model_module_version": "1.5.0",
      "_model_name": "FloatProgressModel",
      "_view_count": null,
      "_view_module": "@jupyter-widgets/controls",
      "_view_module_version": "1.5.0",
      "_view_name": "ProgressView",
      "bar_style": "success",
      "description": "",
      "description_tooltip": null,
      "layout": "IPY_MODEL_3ce06826bf574269bebf5de6c59fd5d3",
      "max": 46830571,
      "min": 0,
      "orientation": "horizontal",
      "style": "IPY_MODEL_025d9909667b41b482a69d026544996f",
      "value": 46830571
     }
    },
    "469eda57c18a428b8e20738810eb0141": {
     "model_module": "@jupyter-widgets/controls",
     "model_module_version": "1.5.0",
     "model_name": "DescriptionStyleModel",
     "state": {
      "_model_module": "@jupyter-widgets/controls",
      "_model_module_version": "1.5.0",
      "_model_name": "DescriptionStyleModel",
      "_view_count": null,
      "_view_module": "@jupyter-widgets/base",
      "_view_module_version": "1.2.0",
      "_view_name": "StyleView",
      "description_width": ""
     }
    },
    "5721126cd7ed46a4b93961f3b3467eec": {
     "model_module": "@jupyter-widgets/base",
     "model_module_version": "1.2.0",
     "model_name": "LayoutModel",
     "state": {
      "_model_module": "@jupyter-widgets/base",
      "_model_module_version": "1.2.0",
      "_model_name": "LayoutModel",
      "_view_count": null,
      "_view_module": "@jupyter-widgets/base",
      "_view_module_version": "1.2.0",
      "_view_name": "LayoutView",
      "align_content": null,
      "align_items": null,
      "align_self": null,
      "border": null,
      "bottom": null,
      "display": null,
      "flex": null,
      "flex_flow": null,
      "grid_area": null,
      "grid_auto_columns": null,
      "grid_auto_flow": null,
      "grid_auto_rows": null,
      "grid_column": null,
      "grid_gap": null,
      "grid_row": null,
      "grid_template_areas": null,
      "grid_template_columns": null,
      "grid_template_rows": null,
      "height": null,
      "justify_content": null,
      "justify_items": null,
      "left": null,
      "margin": null,
      "max_height": null,
      "max_width": null,
      "min_height": null,
      "min_width": null,
      "object_fit": null,
      "object_position": null,
      "order": null,
      "overflow": null,
      "overflow_x": null,
      "overflow_y": null,
      "padding": null,
      "right": null,
      "top": null,
      "visibility": null,
      "width": null
     }
    },
    "bd1d4c79da8947e09e7a1386d16ce008": {
     "model_module": "@jupyter-widgets/base",
     "model_module_version": "1.2.0",
     "model_name": "LayoutModel",
     "state": {
      "_model_module": "@jupyter-widgets/base",
      "_model_module_version": "1.2.0",
      "_model_name": "LayoutModel",
      "_view_count": null,
      "_view_module": "@jupyter-widgets/base",
      "_view_module_version": "1.2.0",
      "_view_name": "LayoutView",
      "align_content": null,
      "align_items": null,
      "align_self": null,
      "border": null,
      "bottom": null,
      "display": null,
      "flex": null,
      "flex_flow": null,
      "grid_area": null,
      "grid_auto_columns": null,
      "grid_auto_flow": null,
      "grid_auto_rows": null,
      "grid_column": null,
      "grid_gap": null,
      "grid_row": null,
      "grid_template_areas": null,
      "grid_template_columns": null,
      "grid_template_rows": null,
      "height": null,
      "justify_content": null,
      "justify_items": null,
      "left": null,
      "margin": null,
      "max_height": null,
      "max_width": null,
      "min_height": null,
      "min_width": null,
      "object_fit": null,
      "object_position": null,
      "order": null,
      "overflow": null,
      "overflow_x": null,
      "overflow_y": null,
      "padding": null,
      "right": null,
      "top": null,
      "visibility": null,
      "width": null
     }
    }
   }
  }
 },
 "nbformat": 4,
 "nbformat_minor": 1
}
