{
 "cells": [
  {
   "cell_type": "code",
   "execution_count": null,
   "metadata": {
    "id": "nWb94gK-1SPm"
   },
   "outputs": [],
   "source": [
    "import torch\n",
    "from torch import nn\n",
    "import torchvision # For all your CV task\n",
    "import matplotlib.pyplot as plt"
   ]
  },
  {
   "cell_type": "code",
   "execution_count": null,
   "metadata": {
    "id": "V2VVAU5d2AIC"
   },
   "outputs": [],
   "source": [
    "DATA_ROOT_DIR = \"FashionMnist\""
   ]
  },
  {
   "cell_type": "code",
   "execution_count": null,
   "metadata": {
    "colab": {
     "base_uri": "https://localhost:8080/"
    },
    "executionInfo": {
     "elapsed": 19,
     "status": "ok",
     "timestamp": 1630192122874,
     "user": {
      "displayName": "Sunny iNeuron",
      "photoUrl": "https://lh3.googleusercontent.com/a-/AOh14GhmXLjrm_XYgByZVmHbyiA9-be_Jt1_fbtrh6e4=s64",
      "userId": "02044749445435352574"
     },
     "user_tz": -330
    },
    "id": "XnLi6Y4K2vL-",
    "outputId": "29a7a837-8d9f-4370-94d5-a4af82400af8"
   },
   "outputs": [
    {
     "name": "stderr",
     "output_type": "stream",
     "text": [
      "/usr/local/lib/python3.7/dist-packages/torchvision/datasets/mnist.py:498: UserWarning: The given NumPy array is not writeable, and PyTorch does not support non-writeable tensors. This means you can write to the underlying (supposedly non-writeable) NumPy array using the tensor. You may want to copy the array to protect its data or make it writeable before converting it to a tensor. This type of warning will be suppressed for the rest of this program. (Triggered internally at  /pytorch/torch/csrc/utils/tensor_numpy.cpp:180.)\n",
      "  return torch.from_numpy(parsed.astype(m[2], copy=False)).view(*s)\n"
     ]
    }
   ],
   "source": [
    "train_data = torchvision.datasets.FashionMNIST(\n",
    "    root = DATA_ROOT_DIR,\n",
    "    train = True,\n",
    "    download = True,\n",
    "    transform = torchvision.transforms.ToTensor(),\n",
    ")\n",
    "\n",
    "\n",
    "test_data = torchvision.datasets.FashionMNIST(\n",
    "    root = DATA_ROOT_DIR,\n",
    "    train = False,\n",
    "    download = True,\n",
    "    transform = torchvision.transforms.ToTensor(),\n",
    ")"
   ]
  },
  {
   "cell_type": "code",
   "execution_count": null,
   "metadata": {
    "id": "Q8VbZV9T3Tc-"
   },
   "outputs": [],
   "source": [
    "BATCH_SIZE = 64\n",
    "\n",
    "train_data_loader = torch.utils.data.DataLoader(train_data, batch_size=BATCH_SIZE)\n",
    "test_data_loader = torch.utils.data.DataLoader(test_data, batch_size=BATCH_SIZE)"
   ]
  },
  {
   "cell_type": "code",
   "execution_count": null,
   "metadata": {
    "colab": {
     "base_uri": "https://localhost:8080/"
    },
    "executionInfo": {
     "elapsed": 16,
     "status": "ok",
     "timestamp": 1630192122875,
     "user": {
      "displayName": "Sunny iNeuron",
      "photoUrl": "https://lh3.googleusercontent.com/a-/AOh14GhmXLjrm_XYgByZVmHbyiA9-be_Jt1_fbtrh6e4=s64",
      "userId": "02044749445435352574"
     },
     "user_tz": -330
    },
    "id": "u0i85rHD5R1d",
    "outputId": "b954d37a-70ac-4bfd-8797-26209d6d1ea5"
   },
   "outputs": [
    {
     "data": {
      "text/plain": [
       "torch.utils.data.dataloader.DataLoader"
      ]
     },
     "execution_count": 5,
     "metadata": {},
     "output_type": "execute_result"
    }
   ],
   "source": [
    "type(train_data_loader)"
   ]
  },
  {
   "cell_type": "code",
   "execution_count": null,
   "metadata": {
    "colab": {
     "base_uri": "https://localhost:8080/"
    },
    "executionInfo": {
     "elapsed": 14,
     "status": "ok",
     "timestamp": 1630192122876,
     "user": {
      "displayName": "Sunny iNeuron",
      "photoUrl": "https://lh3.googleusercontent.com/a-/AOh14GhmXLjrm_XYgByZVmHbyiA9-be_Jt1_fbtrh6e4=s64",
      "userId": "02044749445435352574"
     },
     "user_tz": -330
    },
    "id": "oT18BFch35Ba",
    "outputId": "f62c1160-169f-499c-b30a-b87e1d2c1257"
   },
   "outputs": [
    {
     "name": "stdout",
     "output_type": "stream",
     "text": [
      "torch.Size([64, 1, 28, 28])\n",
      "torch.Size([64]) torch.int64 tensor([0, 1, 2, 3, 4, 5, 6, 7, 8, 9])\n"
     ]
    }
   ],
   "source": [
    "for X, y in test_data_loader:\n",
    "  print(X.shape)\n",
    "  print(y.shape, y.dtype, torch.unique(y))\n",
    "  break"
   ]
  },
  {
   "cell_type": "code",
   "execution_count": null,
   "metadata": {
    "colab": {
     "base_uri": "https://localhost:8080/",
     "height": 35
    },
    "executionInfo": {
     "elapsed": 12,
     "status": "ok",
     "timestamp": 1630192122876,
     "user": {
      "displayName": "Sunny iNeuron",
      "photoUrl": "https://lh3.googleusercontent.com/a-/AOh14GhmXLjrm_XYgByZVmHbyiA9-be_Jt1_fbtrh6e4=s64",
      "userId": "02044749445435352574"
     },
     "user_tz": -330
    },
    "id": "VSp--hVx4B9K",
    "outputId": "4ba51df3-e29e-4357-a50a-7e1bca156e2d"
   },
   "outputs": [
    {
     "data": {
      "application/vnd.google.colaboratory.intrinsic+json": {
       "type": "string"
      },
      "text/plain": [
       "'cuda'"
      ]
     },
     "execution_count": 7,
     "metadata": {},
     "output_type": "execute_result"
    }
   ],
   "source": [
    "device = \"cuda\" if torch.cuda.is_available() else \"cpu\"\n",
    "device"
   ]
  },
  {
   "cell_type": "code",
   "execution_count": null,
   "metadata": {
    "id": "q1JscSFE45l-"
   },
   "outputs": [],
   "source": [
    "class NeuralNetwork(nn.Module):\n",
    "  def __init__(self):\n",
    "    super(NeuralNetwork, self).__init__()\n",
    "\n",
    "    self.flatten = nn.Flatten()\n",
    "\n",
    "    self.linear_relu_stack = nn.Sequential(\n",
    "        nn.Linear(28*28, 512), # just like dense layer\n",
    "        nn.ReLU(), # activation funcions\n",
    "        nn.Linear(512, 512),\n",
    "        nn.ReLU(),\n",
    "        nn.Linear(512, 10),\n",
    "        nn.ReLU(),\n",
    "        \n",
    "    )\n",
    "\n",
    "\n",
    "  def forward(self, X): # forward prop\n",
    "    X = self.flatten(X)\n",
    "    logits = self.linear_relu_stack(X)\n",
    "    return logits"
   ]
  },
  {
   "cell_type": "code",
   "execution_count": null,
   "metadata": {
    "colab": {
     "base_uri": "https://localhost:8080/"
    },
    "executionInfo": {
     "elapsed": 3474,
     "status": "ok",
     "timestamp": 1630192126341,
     "user": {
      "displayName": "Sunny iNeuron",
      "photoUrl": "https://lh3.googleusercontent.com/a-/AOh14GhmXLjrm_XYgByZVmHbyiA9-be_Jt1_fbtrh6e4=s64",
      "userId": "02044749445435352574"
     },
     "user_tz": -330
    },
    "id": "Oo7GwUDz7IeB",
    "outputId": "5ee1171d-bd58-4f7a-f5df-84eea60560cf"
   },
   "outputs": [
    {
     "name": "stdout",
     "output_type": "stream",
     "text": [
      "NeuralNetwork(\n",
      "  (flatten): Flatten(start_dim=1, end_dim=-1)\n",
      "  (linear_relu_stack): Sequential(\n",
      "    (0): Linear(in_features=784, out_features=512, bias=True)\n",
      "    (1): ReLU()\n",
      "    (2): Linear(in_features=512, out_features=512, bias=True)\n",
      "    (3): ReLU()\n",
      "    (4): Linear(in_features=512, out_features=10, bias=True)\n",
      "    (5): ReLU()\n",
      "  )\n",
      ")\n"
     ]
    }
   ],
   "source": [
    "model = NeuralNetwork().to(device)\n",
    "\n",
    "print(model)"
   ]
  },
  {
   "cell_type": "code",
   "execution_count": null,
   "metadata": {
    "id": "nE5jP67D7WhE"
   },
   "outputs": [],
   "source": [
    "loss_fn = nn.CrossEntropyLoss()\n",
    "optimizer = torch.optim.SGD(model.parameters(), lr=1e-3)"
   ]
  },
  {
   "cell_type": "code",
   "execution_count": null,
   "metadata": {
    "id": "A_zCKLoY8EO5"
   },
   "outputs": [],
   "source": [
    "def train(dataloader, model, loss_fn, optimzer):\n",
    "  size = len(dataloader.dataset)\n",
    "\n",
    "  for batch, (X, y) in enumerate(dataloader):\n",
    "    X, y = X.to(device), y.to(device)\n",
    "\n",
    "    # calculate error\n",
    "    pred = model(X)\n",
    "    loss = loss_fn(pred, y)\n",
    "\n",
    "    # Backpropagation\n",
    "    optimzer.zero_grad()\n",
    "    loss.backward()\n",
    "    optimizer.step()\n",
    "\n",
    "    if batch % 100 == 0:\n",
    "      loss, current = loss.item(), batch * len(X)\n",
    "      print(f\"training loss: {loss} [{current}/{size}]\")"
   ]
  },
  {
   "cell_type": "code",
   "execution_count": null,
   "metadata": {
    "id": "Ert09q_t9jUS"
   },
   "outputs": [],
   "source": [
    "def test(dataloader, model):\n",
    "  size = len(dataloader.dataset)\n",
    "  model.eval()\n",
    "\n",
    "  test_loss, correct = 0, 0\n",
    "\n",
    "  with torch.no_grad():\n",
    "    for X, y in dataloader:\n",
    "      X, y = X.to(device), y.to(device)\n",
    "      pred = model(X)\n",
    "      test_loss = test_loss +  loss_fn(pred, y).item()\n",
    "      correct = correct + (pred.argmax(1) == y).type(torch.float).sum().item()\n",
    "\n",
    "  test_loss = test_loss/size\n",
    "  correct = correct/size\n",
    "\n",
    "  print(f\"Test loss: {100*correct}, average loss: {test_loss}\")"
   ]
  },
  {
   "cell_type": "code",
   "execution_count": null,
   "metadata": {
    "colab": {
     "base_uri": "https://localhost:8080/"
    },
    "executionInfo": {
     "elapsed": 16928,
     "status": "ok",
     "timestamp": 1630192143253,
     "user": {
      "displayName": "Sunny iNeuron",
      "photoUrl": "https://lh3.googleusercontent.com/a-/AOh14GhmXLjrm_XYgByZVmHbyiA9-be_Jt1_fbtrh6e4=s64",
      "userId": "02044749445435352574"
     },
     "user_tz": -330
    },
    "id": "w4Bk1pfg-tfn",
    "outputId": "ae4bb655-ca39-46c5-af3f-d85ed917e10c"
   },
   "outputs": [
    {
     "name": "stdout",
     "output_type": "stream",
     "text": [
      "EPOCH: 1\n",
      "-------------\n",
      "training loss: 2.2941970825195312 [0/60000]\n",
      "training loss: 2.2883119583129883 [6400/60000]\n",
      "training loss: 2.280623435974121 [12800/60000]\n",
      "training loss: 2.2813422679901123 [19200/60000]\n",
      "training loss: 2.2702510356903076 [25600/60000]\n",
      "training loss: 2.2805211544036865 [32000/60000]\n",
      "training loss: 2.2641565799713135 [38400/60000]\n",
      "training loss: 2.261601686477661 [44800/60000]\n",
      "training loss: 2.247023820877075 [51200/60000]\n",
      "training loss: 2.2625045776367188 [57600/60000]\n",
      "Test loss: 40.92, average loss: 0.03510703830718994\n",
      "EPOCH: 2\n",
      "-------------\n",
      "training loss: 2.233642101287842 [0/60000]\n",
      "training loss: 2.2219626903533936 [6400/60000]\n",
      "training loss: 2.2073118686676025 [12800/60000]\n",
      "training loss: 2.2185914516448975 [19200/60000]\n",
      "training loss: 2.193157434463501 [25600/60000]\n",
      "training loss: 2.2305967807769775 [32000/60000]\n",
      "training loss: 2.197059154510498 [38400/60000]\n",
      "training loss: 2.193182945251465 [44800/60000]\n",
      "training loss: 2.1618361473083496 [51200/60000]\n",
      "training loss: 2.2104265689849854 [57600/60000]\n",
      "Test loss: 39.04, average loss: 0.03373999674320221\n",
      "EPOCH: 3\n",
      "-------------\n",
      "training loss: 2.148129940032959 [0/60000]\n",
      "training loss: 2.125706911087036 [6400/60000]\n",
      "training loss: 2.095897674560547 [12800/60000]\n",
      "training loss: 2.119093418121338 [19200/60000]\n",
      "training loss: 2.085118293762207 [25600/60000]\n",
      "training loss: 2.158787250518799 [32000/60000]\n",
      "training loss: 2.0982980728149414 [38400/60000]\n",
      "training loss: 2.0950982570648193 [44800/60000]\n",
      "training loss: 2.0436744689941406 [51200/60000]\n",
      "training loss: 2.136906862258911 [57600/60000]\n",
      "Test loss: 37.84, average loss: 0.031852943682670595\n",
      "Done\n"
     ]
    }
   ],
   "source": [
    "EPOCHS = 3\n",
    "\n",
    "for epoch in range(EPOCHS):\n",
    "  print(f\"EPOCH: {epoch + 1}\\n-------------\")\n",
    "\n",
    "  train(train_data_loader, model, loss_fn, optimizer)\n",
    "  test(test_data_loader, model)\n",
    "\n",
    "print(\"Done\")"
   ]
  },
  {
   "cell_type": "code",
   "execution_count": null,
   "metadata": {
    "id": "5P4C18eU_4iU"
   },
   "outputs": [],
   "source": [
    "torch.save(model, \"model.pth\")"
   ]
  },
  {
   "cell_type": "code",
   "execution_count": null,
   "metadata": {
    "colab": {
     "base_uri": "https://localhost:8080/"
    },
    "executionInfo": {
     "elapsed": 39,
     "status": "ok",
     "timestamp": 1630192143254,
     "user": {
      "displayName": "Sunny iNeuron",
      "photoUrl": "https://lh3.googleusercontent.com/a-/AOh14GhmXLjrm_XYgByZVmHbyiA9-be_Jt1_fbtrh6e4=s64",
      "userId": "02044749445435352574"
     },
     "user_tz": -330
    },
    "id": "jkj_lmZAAfdw",
    "outputId": "89ac3992-0c0b-4849-9e1e-c59ed3464aa7"
   },
   "outputs": [
    {
     "name": "stdout",
     "output_type": "stream",
     "text": [
      "Bag Ankle boot\n"
     ]
    },
    {
     "name": "stderr",
     "output_type": "stream",
     "text": [
      "/usr/local/lib/python3.7/dist-packages/ipykernel_launcher.py:17: UserWarning: To copy construct from a tensor, it is recommended to use sourceTensor.clone().detach() or sourceTensor.clone().detach().requires_grad_(True), rather than torch.tensor(sourceTensor).\n"
     ]
    }
   ],
   "source": [
    "classes = [\n",
    "    \"T-shirt/top\",\n",
    "    \"Trouser\",\n",
    "    \"Pullover\",\n",
    "    \"Dress\",\n",
    "    \"Coat\",\n",
    "    \"Sandal\",\n",
    "    \"Shirt\",\n",
    "    \"Sneaker\",\n",
    "    \"Bag\",\n",
    "    \"Ankle boot\",\n",
    "]\n",
    "\n",
    "\n",
    "model.eval()\n",
    "\n",
    "X, y = torch.tensor(test_data[0][0]).to(device), torch.tensor(test_data[0][1]).to(device)\n",
    "\n",
    "with torch.no_grad():\n",
    "  pred = model(X)\n",
    "  predicted, actual = classes[pred[0].argmax(0)], classes[y]\n",
    "  print(predicted, actual)"
   ]
  },
  {
   "cell_type": "code",
   "execution_count": null,
   "metadata": {
    "id": "MOj1AGoRB1Po"
   },
   "outputs": [],
   "source": []
  }
 ],
 "metadata": {
  "accelerator": "GPU",
  "colab": {
   "collapsed_sections": [],
   "name": "FashionMNIST.ipynb",
   "provenance": []
  },
  "kernelspec": {
   "display_name": "Python 3",
   "language": "python",
   "name": "python3"
  },
  "language_info": {
   "codemirror_mode": {
    "name": "ipython",
    "version": 3
   },
   "file_extension": ".py",
   "mimetype": "text/x-python",
   "name": "python",
   "nbconvert_exporter": "python",
   "pygments_lexer": "ipython3",
   "version": "3.7.15"
  }
 },
 "nbformat": 4,
 "nbformat_minor": 1
}
